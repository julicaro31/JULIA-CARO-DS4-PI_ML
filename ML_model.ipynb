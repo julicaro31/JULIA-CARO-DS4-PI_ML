{
 "cells": [
  {
   "cell_type": "markdown",
   "metadata": {},
   "source": [
    "# Machine Learning model to predict the price of a property in Colombia"
   ]
  },
  {
   "cell_type": "markdown",
   "metadata": {},
   "source": [
    "### The aim of this model is to predict wether a property in Colombia is expensive based on the price mean. If the price is less than the mean, the property is categorized as cheap. Otherwise it's categorized as expensive."
   ]
  },
  {
   "cell_type": "code",
   "execution_count": 1,
   "metadata": {},
   "outputs": [],
   "source": [
    "import os\n",
    "import numpy as np\n",
    "import pandas as pd\n",
    "import matplotlib.pyplot as plt\n",
    "import geopandas as gpd"
   ]
  },
  {
   "cell_type": "code",
   "execution_count": 2,
   "metadata": {},
   "outputs": [],
   "source": [
    "import seaborn as sns"
   ]
  },
  {
   "cell_type": "markdown",
   "metadata": {},
   "source": [
    "First, the train data is imported using Pandas library. There's one file for the training set and one for the test set."
   ]
  },
  {
   "cell_type": "code",
   "execution_count": 3,
   "metadata": {},
   "outputs": [],
   "source": [
    "train_path = os.path.join(os.getcwd(),'data','properties_colombia_train.csv')"
   ]
  },
  {
   "cell_type": "code",
   "execution_count": 4,
   "metadata": {},
   "outputs": [],
   "source": [
    "df_train = pd.read_csv(train_path)"
   ]
  },
  {
   "cell_type": "markdown",
   "metadata": {},
   "source": [
    "The model will be supervised and the target value is the price of the property, so I keep just the rows with not null price values."
   ]
  },
  {
   "cell_type": "code",
   "execution_count": 5,
   "metadata": {},
   "outputs": [],
   "source": [
    "df_train.dropna(subset='price',inplace=True)"
   ]
  },
  {
   "cell_type": "code",
   "execution_count": 6,
   "metadata": {},
   "outputs": [
    {
     "data": {
      "text/html": [
       "<div>\n",
       "<style scoped>\n",
       "    .dataframe tbody tr th:only-of-type {\n",
       "        vertical-align: middle;\n",
       "    }\n",
       "\n",
       "    .dataframe tbody tr th {\n",
       "        vertical-align: top;\n",
       "    }\n",
       "\n",
       "    .dataframe thead th {\n",
       "        text-align: right;\n",
       "    }\n",
       "</style>\n",
       "<table border=\"1\" class=\"dataframe\">\n",
       "  <thead>\n",
       "    <tr style=\"text-align: right;\">\n",
       "      <th></th>\n",
       "      <th>Unnamed: 0</th>\n",
       "      <th>id</th>\n",
       "      <th>ad_type</th>\n",
       "      <th>start_date</th>\n",
       "      <th>end_date</th>\n",
       "      <th>created_on</th>\n",
       "      <th>lat</th>\n",
       "      <th>lon</th>\n",
       "      <th>l1</th>\n",
       "      <th>l2</th>\n",
       "      <th>...</th>\n",
       "      <th>surface_total</th>\n",
       "      <th>surface_covered</th>\n",
       "      <th>price</th>\n",
       "      <th>currency</th>\n",
       "      <th>price_period</th>\n",
       "      <th>title</th>\n",
       "      <th>description</th>\n",
       "      <th>property_type</th>\n",
       "      <th>operation_type</th>\n",
       "      <th>geometry</th>\n",
       "    </tr>\n",
       "  </thead>\n",
       "  <tbody>\n",
       "    <tr>\n",
       "      <th>0</th>\n",
       "      <td>861131</td>\n",
       "      <td>CScTjaFiP6yCzS8tFX0ZVA==</td>\n",
       "      <td>Propiedad</td>\n",
       "      <td>2020-12-14</td>\n",
       "      <td>9999-12-31</td>\n",
       "      <td>2020-12-14</td>\n",
       "      <td>6.203000</td>\n",
       "      <td>-75.572000</td>\n",
       "      <td>Colombia</td>\n",
       "      <td>Antioquia</td>\n",
       "      <td>...</td>\n",
       "      <td>NaN</td>\n",
       "      <td>NaN</td>\n",
       "      <td>9.000000e+09</td>\n",
       "      <td>COP</td>\n",
       "      <td>NaN</td>\n",
       "      <td>Hermosa Mansión En El Poblado. Área Construida...</td>\n",
       "      <td>&lt;b&gt;Hermosa Mansión En El Poblado. Área Constru...</td>\n",
       "      <td>Casa</td>\n",
       "      <td>Venta</td>\n",
       "      <td>POINT (-75.572 6.203)</td>\n",
       "    </tr>\n",
       "    <tr>\n",
       "      <th>1</th>\n",
       "      <td>200972</td>\n",
       "      <td>DlCxox9+FuugkxS2kBVfJg==</td>\n",
       "      <td>Propiedad</td>\n",
       "      <td>2020-09-16</td>\n",
       "      <td>2021-05-14</td>\n",
       "      <td>2020-09-16</td>\n",
       "      <td>4.722748</td>\n",
       "      <td>-74.073115</td>\n",
       "      <td>Colombia</td>\n",
       "      <td>Cundinamarca</td>\n",
       "      <td>...</td>\n",
       "      <td>NaN</td>\n",
       "      <td>NaN</td>\n",
       "      <td>6.250000e+08</td>\n",
       "      <td>COP</td>\n",
       "      <td>NaN</td>\n",
       "      <td>APARTAMENTO EN VENTA, BOGOTA-CIUDAD JARDIN NORTE</td>\n",
       "      <td>Venta apartamento en piso 16 con vista exterio...</td>\n",
       "      <td>Apartamento</td>\n",
       "      <td>Venta</td>\n",
       "      <td>POINT (-74.0731146 4.7227485)</td>\n",
       "    </tr>\n",
       "    <tr>\n",
       "      <th>2</th>\n",
       "      <td>554622</td>\n",
       "      <td>yitN1AigL45gh/K2YSF8rw==</td>\n",
       "      <td>Propiedad</td>\n",
       "      <td>2020-08-19</td>\n",
       "      <td>2020-08-20</td>\n",
       "      <td>2020-08-19</td>\n",
       "      <td>4.709000</td>\n",
       "      <td>-74.030000</td>\n",
       "      <td>Colombia</td>\n",
       "      <td>Cundinamarca</td>\n",
       "      <td>...</td>\n",
       "      <td>NaN</td>\n",
       "      <td>NaN</td>\n",
       "      <td>4.200000e+08</td>\n",
       "      <td>COP</td>\n",
       "      <td>NaN</td>\n",
       "      <td>Apartamento En Venta En Bogota Bella Suiza Cod...</td>\n",
       "      <td>Al entrar a este bonito apartamento interior e...</td>\n",
       "      <td>Casa</td>\n",
       "      <td>Venta</td>\n",
       "      <td>POINT (-74.03 4.709)</td>\n",
       "    </tr>\n",
       "    <tr>\n",
       "      <th>3</th>\n",
       "      <td>540321</td>\n",
       "      <td>hELQ9njwODbLMpATXieRdQ==</td>\n",
       "      <td>Propiedad</td>\n",
       "      <td>2020-11-23</td>\n",
       "      <td>2020-11-30</td>\n",
       "      <td>2020-11-23</td>\n",
       "      <td>NaN</td>\n",
       "      <td>NaN</td>\n",
       "      <td>Colombia</td>\n",
       "      <td>Santander</td>\n",
       "      <td>...</td>\n",
       "      <td>NaN</td>\n",
       "      <td>NaN</td>\n",
       "      <td>1.310000e+09</td>\n",
       "      <td>COP</td>\n",
       "      <td>NaN</td>\n",
       "      <td>SE VENDE LOCAL COMERCIAL EN CABECERA DEL LLANO...</td>\n",
       "      <td>Se encuentra ubicado en el sector de la Cabece...</td>\n",
       "      <td>Otro</td>\n",
       "      <td>Venta</td>\n",
       "      <td>POINT EMPTY</td>\n",
       "    </tr>\n",
       "    <tr>\n",
       "      <th>4</th>\n",
       "      <td>448920</td>\n",
       "      <td>aBCtKT7LDzt2CxJQ+gVFEA==</td>\n",
       "      <td>Propiedad</td>\n",
       "      <td>2020-10-06</td>\n",
       "      <td>2020-10-07</td>\n",
       "      <td>2020-10-06</td>\n",
       "      <td>NaN</td>\n",
       "      <td>NaN</td>\n",
       "      <td>Colombia</td>\n",
       "      <td>Antioquia</td>\n",
       "      <td>...</td>\n",
       "      <td>NaN</td>\n",
       "      <td>NaN</td>\n",
       "      <td>2.100000e+08</td>\n",
       "      <td>COP</td>\n",
       "      <td>NaN</td>\n",
       "      <td>Apartamento en Venta Ubicado en ITAGUI</td>\n",
       "      <td>Codigo Inmueble 4302 Apartamento con 3 habitac...</td>\n",
       "      <td>Apartamento</td>\n",
       "      <td>Venta</td>\n",
       "      <td>POINT EMPTY</td>\n",
       "    </tr>\n",
       "  </tbody>\n",
       "</table>\n",
       "<p>5 rows × 27 columns</p>\n",
       "</div>"
      ],
      "text/plain": [
       "   Unnamed: 0                        id    ad_type  start_date    end_date  \\\n",
       "0      861131  CScTjaFiP6yCzS8tFX0ZVA==  Propiedad  2020-12-14  9999-12-31   \n",
       "1      200972  DlCxox9+FuugkxS2kBVfJg==  Propiedad  2020-09-16  2021-05-14   \n",
       "2      554622  yitN1AigL45gh/K2YSF8rw==  Propiedad  2020-08-19  2020-08-20   \n",
       "3      540321  hELQ9njwODbLMpATXieRdQ==  Propiedad  2020-11-23  2020-11-30   \n",
       "4      448920  aBCtKT7LDzt2CxJQ+gVFEA==  Propiedad  2020-10-06  2020-10-07   \n",
       "\n",
       "   created_on       lat        lon        l1            l2  ... surface_total  \\\n",
       "0  2020-12-14  6.203000 -75.572000  Colombia     Antioquia  ...           NaN   \n",
       "1  2020-09-16  4.722748 -74.073115  Colombia  Cundinamarca  ...           NaN   \n",
       "2  2020-08-19  4.709000 -74.030000  Colombia  Cundinamarca  ...           NaN   \n",
       "3  2020-11-23       NaN        NaN  Colombia     Santander  ...           NaN   \n",
       "4  2020-10-06       NaN        NaN  Colombia     Antioquia  ...           NaN   \n",
       "\n",
       "  surface_covered         price currency  price_period  \\\n",
       "0             NaN  9.000000e+09      COP           NaN   \n",
       "1             NaN  6.250000e+08      COP           NaN   \n",
       "2             NaN  4.200000e+08      COP           NaN   \n",
       "3             NaN  1.310000e+09      COP           NaN   \n",
       "4             NaN  2.100000e+08      COP           NaN   \n",
       "\n",
       "                                               title  \\\n",
       "0  Hermosa Mansión En El Poblado. Área Construida...   \n",
       "1   APARTAMENTO EN VENTA, BOGOTA-CIUDAD JARDIN NORTE   \n",
       "2  Apartamento En Venta En Bogota Bella Suiza Cod...   \n",
       "3  SE VENDE LOCAL COMERCIAL EN CABECERA DEL LLANO...   \n",
       "4             Apartamento en Venta Ubicado en ITAGUI   \n",
       "\n",
       "                                         description  property_type  \\\n",
       "0  <b>Hermosa Mansión En El Poblado. Área Constru...           Casa   \n",
       "1  Venta apartamento en piso 16 con vista exterio...    Apartamento   \n",
       "2  Al entrar a este bonito apartamento interior e...           Casa   \n",
       "3  Se encuentra ubicado en el sector de la Cabece...           Otro   \n",
       "4  Codigo Inmueble 4302 Apartamento con 3 habitac...    Apartamento   \n",
       "\n",
       "   operation_type                       geometry  \n",
       "0           Venta          POINT (-75.572 6.203)  \n",
       "1           Venta  POINT (-74.0731146 4.7227485)  \n",
       "2           Venta           POINT (-74.03 4.709)  \n",
       "3           Venta                    POINT EMPTY  \n",
       "4           Venta                    POINT EMPTY  \n",
       "\n",
       "[5 rows x 27 columns]"
      ]
     },
     "execution_count": 6,
     "metadata": {},
     "output_type": "execute_result"
    }
   ],
   "source": [
    "df_train.head()"
   ]
  },
  {
   "cell_type": "markdown",
   "metadata": {},
   "source": [
    "We can seee there are eight properties with USD currency."
   ]
  },
  {
   "cell_type": "code",
   "execution_count": 7,
   "metadata": {},
   "outputs": [
    {
     "data": {
      "text/plain": [
       "currency\n",
       "COP    197474\n",
       "USD         8\n",
       "Name: currency, dtype: int64"
      ]
     },
     "execution_count": 7,
     "metadata": {},
     "output_type": "execute_result"
    }
   ],
   "source": [
    "df_train.groupby(df_train.currency).currency.count()"
   ]
  },
  {
   "cell_type": "markdown",
   "metadata": {},
   "source": [
    "The USD prices are converted to COP using the mean value extract from the following web page."
   ]
  },
  {
   "cell_type": "markdown",
   "metadata": {},
   "source": [
    "https://freecurrencyrates.com/es/exchange-rate-history/USD-COP/2020/yahoo"
   ]
  },
  {
   "cell_type": "code",
   "execution_count": 8,
   "metadata": {},
   "outputs": [],
   "source": [
    "df_train.price = np.where(df_train.currency == 'USD', df_train.price*4000 , df_train.price)"
   ]
  },
  {
   "cell_type": "code",
   "execution_count": 9,
   "metadata": {},
   "outputs": [],
   "source": [
    "df_train.drop('currency',axis=1,inplace=True)"
   ]
  },
  {
   "cell_type": "markdown",
   "metadata": {},
   "source": [
    "The price mean is calculated in order to know the value separating the two categories."
   ]
  },
  {
   "cell_type": "code",
   "execution_count": 10,
   "metadata": {},
   "outputs": [
    {
     "name": "stdout",
     "output_type": "stream",
     "text": [
      "645315583.7466555\n"
     ]
    }
   ],
   "source": [
    "price_mean = df_train.price.mean()\n",
    "print(price_mean)"
   ]
  },
  {
   "cell_type": "markdown",
   "metadata": {},
   "source": [
    "Using geopandas we can check if the locations correspond to a place in Colombia as it should be."
   ]
  },
  {
   "cell_type": "code",
   "execution_count": 11,
   "metadata": {},
   "outputs": [],
   "source": [
    "countries = gpd.read_file(gpd.datasets.get_path(\"naturalearth_lowres\"))"
   ]
  },
  {
   "cell_type": "code",
   "execution_count": 12,
   "metadata": {},
   "outputs": [
    {
     "data": {
      "image/png": "[encoded data removed]",
      "text/plain": [
       "<Figure size 800x600 with 1 Axes>"
      ]
     },
     "metadata": {},
     "output_type": "display_data"
    }
   ],
   "source": [
    "fig, ax = plt.subplots(figsize=(8,6))\n",
    "\n",
    "countries.plot(color=\"lightgrey\",ax=ax)\n",
    "\n",
    "df_train.plot(x=\"lon\", y=\"lat\", kind=\"scatter\",ax=ax)\n",
    "\n",
    "plt.show()"
   ]
  },
  {
   "cell_type": "code",
   "execution_count": 13,
   "metadata": {},
   "outputs": [
    {
     "data": {
      "image/png": "[encoded data removed]",
      "text/plain": [
       "<Figure size 800x600 with 1 Axes>"
      ]
     },
     "metadata": {},
     "output_type": "display_data"
    }
   ],
   "source": [
    "fig, ax = plt.subplots(figsize=(8,6))\n",
    "\n",
    "countries[countries[\"name\"] == \"Colombia\"].plot(color=\"lightgrey\",ax=ax)\n",
    "\n",
    "df_train.plot(x=\"lon\", y=\"lat\", kind=\"scatter\",ax=ax,s=1)\n",
    "\n",
    "ax.grid(alpha=1)\n",
    "\n",
    "plt.show()"
   ]
  },
  {
   "cell_type": "markdown",
   "metadata": {},
   "source": [
    "Some of the dots outside Colombia are located in 'San Andrés Providencia y Santa Catalina' so I keep those:"
   ]
  },
  {
   "cell_type": "code",
   "execution_count": 14,
   "metadata": {},
   "outputs": [
    {
     "data": {
      "text/plain": [
       "array(['San Andrés Providencia y Santa Catalina'], dtype=object)"
      ]
     },
     "execution_count": 14,
     "metadata": {},
     "output_type": "execute_result"
    }
   ],
   "source": [
    "df_train[(df_train.lat > 10)&(df_train.lat <20)&(df_train.lon>-90)&(df_train.lon<-80)].l2.unique()"
   ]
  },
  {
   "cell_type": "markdown",
   "metadata": {},
   "source": [
    "The following data is not correct. The lonigutudes and latitudes do not correspond to Cudinamarca."
   ]
  },
  {
   "cell_type": "code",
   "execution_count": 15,
   "metadata": {},
   "outputs": [
    {
     "data": {
      "text/html": [
       "<div>\n",
       "<style scoped>\n",
       "    .dataframe tbody tr th:only-of-type {\n",
       "        vertical-align: middle;\n",
       "    }\n",
       "\n",
       "    .dataframe tbody tr th {\n",
       "        vertical-align: top;\n",
       "    }\n",
       "\n",
       "    .dataframe thead th {\n",
       "        text-align: right;\n",
       "    }\n",
       "</style>\n",
       "<table border=\"1\" class=\"dataframe\">\n",
       "  <thead>\n",
       "    <tr style=\"text-align: right;\">\n",
       "      <th></th>\n",
       "      <th>Unnamed: 0</th>\n",
       "      <th>id</th>\n",
       "      <th>ad_type</th>\n",
       "      <th>start_date</th>\n",
       "      <th>end_date</th>\n",
       "      <th>created_on</th>\n",
       "      <th>lat</th>\n",
       "      <th>lon</th>\n",
       "      <th>l1</th>\n",
       "      <th>l2</th>\n",
       "      <th>...</th>\n",
       "      <th>bathrooms</th>\n",
       "      <th>surface_total</th>\n",
       "      <th>surface_covered</th>\n",
       "      <th>price</th>\n",
       "      <th>price_period</th>\n",
       "      <th>title</th>\n",
       "      <th>description</th>\n",
       "      <th>property_type</th>\n",
       "      <th>operation_type</th>\n",
       "      <th>geometry</th>\n",
       "    </tr>\n",
       "  </thead>\n",
       "  <tbody>\n",
       "    <tr>\n",
       "      <th>138682</th>\n",
       "      <td>172722</td>\n",
       "      <td>0xtrMhsbAsQiEv9XHGWTIQ==</td>\n",
       "      <td>Propiedad</td>\n",
       "      <td>2020-09-29</td>\n",
       "      <td>2021-07-26</td>\n",
       "      <td>2020-09-29</td>\n",
       "      <td>-32.787342</td>\n",
       "      <td>-71.20732</td>\n",
       "      <td>Colombia</td>\n",
       "      <td>Cundinamarca</td>\n",
       "      <td>...</td>\n",
       "      <td>6.0</td>\n",
       "      <td>NaN</td>\n",
       "      <td>NaN</td>\n",
       "      <td>2.000000e+09</td>\n",
       "      <td>NaN</td>\n",
       "      <td>51548 LA  CALERA  MIRADO DEL LAGO</td>\n",
       "      <td>Casa hermosa,amplia, vigilancia sector&amp;nbsp; t...</td>\n",
       "      <td>Casa</td>\n",
       "      <td>Venta</td>\n",
       "      <td>POINT (-71.20732 -32.787342)</td>\n",
       "    </tr>\n",
       "    <tr>\n",
       "      <th>148562</th>\n",
       "      <td>819292</td>\n",
       "      <td>s6bCv2RXRdHQGyS2+7WZ8Q==</td>\n",
       "      <td>Propiedad</td>\n",
       "      <td>2020-11-06</td>\n",
       "      <td>2021-07-26</td>\n",
       "      <td>2020-11-06</td>\n",
       "      <td>34.420334</td>\n",
       "      <td>-119.69819</td>\n",
       "      <td>Colombia</td>\n",
       "      <td>Cundinamarca</td>\n",
       "      <td>...</td>\n",
       "      <td>4.0</td>\n",
       "      <td>NaN</td>\n",
       "      <td>NaN</td>\n",
       "      <td>6.000000e+08</td>\n",
       "      <td>NaN</td>\n",
       "      <td>51599  SANTA  BARBARA  APARTAMENTO  506</td>\n",
       "      <td>Apartamento&amp;nbsp; para&amp;nbsp; remodelar , duple...</td>\n",
       "      <td>Apartamento</td>\n",
       "      <td>Venta</td>\n",
       "      <td>POINT (-119.69819 34.420334)</td>\n",
       "    </tr>\n",
       "  </tbody>\n",
       "</table>\n",
       "<p>2 rows × 26 columns</p>\n",
       "</div>"
      ],
      "text/plain": [
       "        Unnamed: 0                        id    ad_type  start_date  \\\n",
       "138682      172722  0xtrMhsbAsQiEv9XHGWTIQ==  Propiedad  2020-09-29   \n",
       "148562      819292  s6bCv2RXRdHQGyS2+7WZ8Q==  Propiedad  2020-11-06   \n",
       "\n",
       "          end_date  created_on        lat        lon        l1            l2  \\\n",
       "138682  2021-07-26  2020-09-29 -32.787342  -71.20732  Colombia  Cundinamarca   \n",
       "148562  2021-07-26  2020-11-06  34.420334 -119.69819  Colombia  Cundinamarca   \n",
       "\n",
       "        ... bathrooms surface_total surface_covered         price  \\\n",
       "138682  ...       6.0           NaN             NaN  2.000000e+09   \n",
       "148562  ...       4.0           NaN             NaN  6.000000e+08   \n",
       "\n",
       "        price_period                                     title  \\\n",
       "138682           NaN       51548 LA  CALERA  MIRADO DEL LAGO     \n",
       "148562           NaN  51599  SANTA  BARBARA  APARTAMENTO  506    \n",
       "\n",
       "                                              description  property_type  \\\n",
       "138682  Casa hermosa,amplia, vigilancia sector&nbsp; t...           Casa   \n",
       "148562  Apartamento&nbsp; para&nbsp; remodelar , duple...    Apartamento   \n",
       "\n",
       "        operation_type                      geometry  \n",
       "138682           Venta  POINT (-71.20732 -32.787342)  \n",
       "148562           Venta  POINT (-119.69819 34.420334)  \n",
       "\n",
       "[2 rows x 26 columns]"
      ]
     },
     "execution_count": 15,
     "metadata": {},
     "output_type": "execute_result"
    }
   ],
   "source": [
    "df_train[(df_train.lat>30)|(df_train.lat<-30)]"
   ]
  },
  {
   "cell_type": "code",
   "execution_count": 16,
   "metadata": {},
   "outputs": [],
   "source": [
    "df_train = df_train[(df_train.lat<30)&(df_train.lat>-30)]"
   ]
  },
  {
   "cell_type": "markdown",
   "metadata": {},
   "source": [
    "The 'Unnamed', 'id', 'operation_type','price_period', 'start_date','end_date' and 'created_on' columns do not provide useful information.<br>\n",
    "The 'geometry' column provides the same information as 'lat' and 'lon'.<br>\n",
    "The 'l1', 'l2', 'l3, 'l4', l5' and 'l6' columns are also related to the geographical location."
   ]
  },
  {
   "cell_type": "code",
   "execution_count": 17,
   "metadata": {},
   "outputs": [
    {
     "name": "stdout",
     "output_type": "stream",
     "text": [
      "[nan 'Mensual']\n",
      "['Venta']\n",
      "['Propiedad']\n"
     ]
    }
   ],
   "source": [
    "print(df_train.price_period.unique())\n",
    "print(df_train.operation_type.unique())\n",
    "print(df_train.ad_type.unique())"
   ]
  },
  {
   "cell_type": "code",
   "execution_count": 18,
   "metadata": {},
   "outputs": [
    {
     "name": "stderr",
     "output_type": "stream",
     "text": [
      "/var/folders/wh/7jr3ry9j3cb9x1sd3ncj65w40000gn/T/ipykernel_1722/3942336373.py:1: SettingWithCopyWarning: \n",
      "A value is trying to be set on a copy of a slice from a DataFrame\n",
      "\n",
      "See the caveats in the documentation: https://pandas.pydata.org/pandas-docs/stable/user_guide/indexing.html#returning-a-view-versus-a-copy\n",
      "  df_train.drop(['Unnamed: 0','id','geometry','l1','l2','l3','l4','l5','l6','operation_type','created_on','start_date','end_date','price_period','ad_type'],axis=1,inplace=True)\n"
     ]
    }
   ],
   "source": [
    "df_train.drop(['Unnamed: 0','id','geometry','l1','l2','l3','l4','l5','l6','operation_type','created_on','start_date','end_date','price_period','ad_type'],axis=1,inplace=True)"
   ]
  },
  {
   "cell_type": "markdown",
   "metadata": {},
   "source": [
    "The columns 'title' and 'description' won't be used in this analysis."
   ]
  },
  {
   "cell_type": "code",
   "execution_count": 19,
   "metadata": {},
   "outputs": [
    {
     "name": "stderr",
     "output_type": "stream",
     "text": [
      "/var/folders/wh/7jr3ry9j3cb9x1sd3ncj65w40000gn/T/ipykernel_1722/122552676.py:1: SettingWithCopyWarning: \n",
      "A value is trying to be set on a copy of a slice from a DataFrame\n",
      "\n",
      "See the caveats in the documentation: https://pandas.pydata.org/pandas-docs/stable/user_guide/indexing.html#returning-a-view-versus-a-copy\n",
      "  df_train.drop(['title','description'],axis=1,inplace=True)\n"
     ]
    }
   ],
   "source": [
    "df_train.drop(['title','description'],axis=1,inplace=True)"
   ]
  },
  {
   "cell_type": "markdown",
   "metadata": {},
   "source": [
    "The categorical column property_type is not numerical so it should be encoded, otherwise the machine learning model won't work.\n"
   ]
  },
  {
   "cell_type": "code",
   "execution_count": 20,
   "metadata": {},
   "outputs": [],
   "source": [
    "df_dummies = pd.get_dummies(df_train.property_type)\n",
    "df_dummies.drop('Otro',axis=1,inplace=True)"
   ]
  },
  {
   "cell_type": "code",
   "execution_count": 21,
   "metadata": {},
   "outputs": [],
   "source": [
    "df_train = df_train.join(df_dummies)\n",
    "df_train.drop('property_type',axis=1,inplace=True)"
   ]
  },
  {
   "cell_type": "code",
   "execution_count": 22,
   "metadata": {},
   "outputs": [
    {
     "name": "stdout",
     "output_type": "stream",
     "text": [
      "<class 'pandas.core.frame.DataFrame'>\n",
      "Int64Index: 147994 entries, 0 to 197548\n",
      "Data columns (total 15 columns):\n",
      " #   Column           Non-Null Count   Dtype  \n",
      "---  ------           --------------   -----  \n",
      " 0   lat              147994 non-null  float64\n",
      " 1   lon              147994 non-null  float64\n",
      " 2   rooms            26951 non-null   float64\n",
      " 3   bedrooms         37729 non-null   float64\n",
      " 4   bathrooms        111147 non-null  float64\n",
      " 5   surface_total    6476 non-null    float64\n",
      " 6   surface_covered  9175 non-null    float64\n",
      " 7   price            147994 non-null  float64\n",
      " 8   Apartamento      147994 non-null  uint8  \n",
      " 9   Casa             147994 non-null  uint8  \n",
      " 10  Finca            147994 non-null  uint8  \n",
      " 11  Local comercial  147994 non-null  uint8  \n",
      " 12  Lote             147994 non-null  uint8  \n",
      " 13  Oficina          147994 non-null  uint8  \n",
      " 14  Parqueadero      147994 non-null  uint8  \n",
      "dtypes: float64(8), uint8(7)\n",
      "memory usage: 15.2 MB\n"
     ]
    }
   ],
   "source": [
    "df_train.info()"
   ]
  },
  {
   "cell_type": "markdown",
   "metadata": {},
   "source": [
    "Using the matrix correlation we can check if there are redundant variables."
   ]
  },
  {
   "cell_type": "code",
   "execution_count": 23,
   "metadata": {},
   "outputs": [
    {
     "data": {
      "text/html": [
       "<style type=\"text/css\">\n",
       "#T_472e7_row0_col0, #T_472e7_row1_col1, #T_472e7_row2_col2, #T_472e7_row2_col3, #T_472e7_row3_col2, #T_472e7_row3_col3, #T_472e7_row4_col4, #T_472e7_row5_col5, #T_472e7_row6_col6, #T_472e7_row7_col7, #T_472e7_row8_col8, #T_472e7_row9_col9, #T_472e7_row10_col10, #T_472e7_row11_col11, #T_472e7_row12_col12, #T_472e7_row13_col13, #T_472e7_row14_col14 {\n",
       "  background-color: #b40426;\n",
       "  color: #f1f1f1;\n",
       "}\n",
       "#T_472e7_row0_col1 {\n",
       "  background-color: #c4d5f3;\n",
       "  color: #000000;\n",
       "}\n",
       "#T_472e7_row0_col2, #T_472e7_row12_col4 {\n",
       "  background-color: #88abfd;\n",
       "  color: #000000;\n",
       "}\n",
       "#T_472e7_row0_col3, #T_472e7_row2_col10 {\n",
       "  background-color: #779af7;\n",
       "  color: #f1f1f1;\n",
       "}\n",
       "#T_472e7_row0_col4, #T_472e7_row3_col7 {\n",
       "  background-color: #7396f5;\n",
       "  color: #f1f1f1;\n",
       "}\n",
       "#T_472e7_row0_col5 {\n",
       "  background-color: #6180e9;\n",
       "  color: #f1f1f1;\n",
       "}\n",
       "#T_472e7_row0_col6, #T_472e7_row11_col6, #T_472e7_row13_col6 {\n",
       "  background-color: #4055c8;\n",
       "  color: #f1f1f1;\n",
       "}\n",
       "#T_472e7_row0_col7, #T_472e7_row4_col10, #T_472e7_row5_col1, #T_472e7_row7_col10, #T_472e7_row7_col13 {\n",
       "  background-color: #5875e1;\n",
       "  color: #f1f1f1;\n",
       "}\n",
       "#T_472e7_row0_col8 {\n",
       "  background-color: #ccd9ed;\n",
       "  color: #000000;\n",
       "}\n",
       "#T_472e7_row0_col9 {\n",
       "  background-color: #bad0f8;\n",
       "  color: #000000;\n",
       "}\n",
       "#T_472e7_row0_col10, #T_472e7_row12_col10 {\n",
       "  background-color: #4a63d3;\n",
       "  color: #f1f1f1;\n",
       "}\n",
       "#T_472e7_row0_col11, #T_472e7_row11_col0, #T_472e7_row12_col13 {\n",
       "  background-color: #4e68d8;\n",
       "  color: #f1f1f1;\n",
       "}\n",
       "#T_472e7_row0_col12, #T_472e7_row2_col12, #T_472e7_row11_col4 {\n",
       "  background-color: #82a6fb;\n",
       "  color: #f1f1f1;\n",
       "}\n",
       "#T_472e7_row0_col13, #T_472e7_row4_col6, #T_472e7_row10_col11, #T_472e7_row12_col1, #T_472e7_row13_col11, #T_472e7_row14_col10 {\n",
       "  background-color: #516ddb;\n",
       "  color: #f1f1f1;\n",
       "}\n",
       "#T_472e7_row0_col14, #T_472e7_row1_col14, #T_472e7_row2_col14, #T_472e7_row4_col0 {\n",
       "  background-color: #3d50c3;\n",
       "  color: #f1f1f1;\n",
       "}\n",
       "#T_472e7_row1_col0 {\n",
       "  background-color: #c3d5f4;\n",
       "  color: #000000;\n",
       "}\n",
       "#T_472e7_row1_col2, #T_472e7_row6_col7 {\n",
       "  background-color: #86a9fc;\n",
       "  color: #f1f1f1;\n",
       "}\n",
       "#T_472e7_row1_col3 {\n",
       "  background-color: #80a3fa;\n",
       "  color: #f1f1f1;\n",
       "}\n",
       "#T_472e7_row1_col4, #T_472e7_row1_col12 {\n",
       "  background-color: #81a4fb;\n",
       "  color: #f1f1f1;\n",
       "}\n",
       "#T_472e7_row1_col5, #T_472e7_row2_col8 {\n",
       "  background-color: #6788ee;\n",
       "  color: #f1f1f1;\n",
       "}\n",
       "#T_472e7_row1_col6, #T_472e7_row8_col13, #T_472e7_row9_col10 {\n",
       "  background-color: #3f53c6;\n",
       "  color: #f1f1f1;\n",
       "}\n",
       "#T_472e7_row1_col7, #T_472e7_row10_col6, #T_472e7_row11_col7 {\n",
       "  background-color: #6282ea;\n",
       "  color: #f1f1f1;\n",
       "}\n",
       "#T_472e7_row1_col8, #T_472e7_row4_col7, #T_472e7_row7_col5, #T_472e7_row14_col9 {\n",
       "  background-color: #bfd3f6;\n",
       "  color: #000000;\n",
       "}\n",
       "#T_472e7_row1_col9 {\n",
       "  background-color: #c5d6f2;\n",
       "  color: #000000;\n",
       "}\n",
       "#T_472e7_row1_col10 {\n",
       "  background-color: #485fd1;\n",
       "  color: #f1f1f1;\n",
       "}\n",
       "#T_472e7_row1_col11, #T_472e7_row6_col13, #T_472e7_row8_col1, #T_472e7_row10_col13, #T_472e7_row11_col13, #T_472e7_row14_col0, #T_472e7_row14_col11 {\n",
       "  background-color: #5470de;\n",
       "  color: #f1f1f1;\n",
       "}\n",
       "#T_472e7_row1_col13, #T_472e7_row7_col1, #T_472e7_row13_col1 {\n",
       "  background-color: #5e7de7;\n",
       "  color: #f1f1f1;\n",
       "}\n",
       "#T_472e7_row2_col0, #T_472e7_row2_col1, #T_472e7_row3_col0, #T_472e7_row3_col11, #T_472e7_row3_col13, #T_472e7_row3_col14, #T_472e7_row8_col2, #T_472e7_row8_col3, #T_472e7_row8_col4, #T_472e7_row8_col5, #T_472e7_row8_col6, #T_472e7_row8_col7, #T_472e7_row8_col9, #T_472e7_row8_col10, #T_472e7_row8_col12, #T_472e7_row8_col14, #T_472e7_row9_col8, #T_472e7_row9_col14 {\n",
       "  background-color: #3b4cc0;\n",
       "  color: #f1f1f1;\n",
       "}\n",
       "#T_472e7_row2_col4 {\n",
       "  background-color: #f59d7e;\n",
       "  color: #000000;\n",
       "}\n",
       "#T_472e7_row2_col5, #T_472e7_row4_col8 {\n",
       "  background-color: #7ea1fa;\n",
       "  color: #f1f1f1;\n",
       "}\n",
       "#T_472e7_row2_col6, #T_472e7_row2_col11, #T_472e7_row12_col0 {\n",
       "  background-color: #506bda;\n",
       "  color: #f1f1f1;\n",
       "}\n",
       "#T_472e7_row2_col7, #T_472e7_row10_col4 {\n",
       "  background-color: #8fb1fe;\n",
       "  color: #000000;\n",
       "}\n",
       "#T_472e7_row2_col9 {\n",
       "  background-color: #efcebd;\n",
       "  color: #000000;\n",
       "}\n",
       "#T_472e7_row2_col13, #T_472e7_row3_col6, #T_472e7_row5_col0, #T_472e7_row11_col10, #T_472e7_row13_col0, #T_472e7_row13_col10 {\n",
       "  background-color: #4f69d9;\n",
       "  color: #f1f1f1;\n",
       "}\n",
       "#T_472e7_row3_col1 {\n",
       "  background-color: #445acc;\n",
       "  color: #f1f1f1;\n",
       "}\n",
       "#T_472e7_row3_col4 {\n",
       "  background-color: #f7b093;\n",
       "  color: #000000;\n",
       "}\n",
       "#T_472e7_row3_col5, #T_472e7_row3_col8 {\n",
       "  background-color: #799cf8;\n",
       "  color: #f1f1f1;\n",
       "}\n",
       "#T_472e7_row3_col9 {\n",
       "  background-color: #f1cdba;\n",
       "  color: #000000;\n",
       "}\n",
       "#T_472e7_row3_col10, #T_472e7_row12_col3 {\n",
       "  background-color: #6e90f2;\n",
       "  color: #f1f1f1;\n",
       "}\n",
       "#T_472e7_row3_col12 {\n",
       "  background-color: #6384eb;\n",
       "  color: #f1f1f1;\n",
       "}\n",
       "#T_472e7_row4_col1, #T_472e7_row5_col11, #T_472e7_row9_col0, #T_472e7_row9_col12, #T_472e7_row10_col0, #T_472e7_row10_col1, #T_472e7_row12_col6, #T_472e7_row12_col11 {\n",
       "  background-color: #4b64d5;\n",
       "  color: #f1f1f1;\n",
       "}\n",
       "#T_472e7_row4_col2 {\n",
       "  background-color: #f39577;\n",
       "  color: #000000;\n",
       "}\n",
       "#T_472e7_row4_col3 {\n",
       "  background-color: #f7ad90;\n",
       "  color: #000000;\n",
       "}\n",
       "#T_472e7_row4_col5, #T_472e7_row4_col12, #T_472e7_row12_col8, #T_472e7_row14_col12 {\n",
       "  background-color: #84a7fc;\n",
       "  color: #f1f1f1;\n",
       "}\n",
       "#T_472e7_row4_col9 {\n",
       "  background-color: #ebd3c6;\n",
       "  color: #000000;\n",
       "}\n",
       "#T_472e7_row4_col11, #T_472e7_row5_col13 {\n",
       "  background-color: #4c66d6;\n",
       "  color: #f1f1f1;\n",
       "}\n",
       "#T_472e7_row4_col13 {\n",
       "  background-color: #4961d2;\n",
       "  color: #f1f1f1;\n",
       "}\n",
       "#T_472e7_row4_col14, #T_472e7_row14_col4 {\n",
       "  background-color: #000000;\n",
       "  color: #f1f1f1;\n",
       "}\n",
       "#T_472e7_row5_col2 {\n",
       "  background-color: #b2ccfb;\n",
       "  color: #000000;\n",
       "}\n",
       "#T_472e7_row5_col3 {\n",
       "  background-color: #a1c0ff;\n",
       "  color: #000000;\n",
       "}\n",
       "#T_472e7_row5_col4, #T_472e7_row7_col3, #T_472e7_row7_col12 {\n",
       "  background-color: #a5c3fe;\n",
       "  color: #000000;\n",
       "}\n",
       "#T_472e7_row5_col6 {\n",
       "  background-color: #f7ac8e;\n",
       "  color: #000000;\n",
       "}\n",
       "#T_472e7_row5_col7 {\n",
       "  background-color: #b7cff9;\n",
       "  color: #000000;\n",
       "}\n",
       "#T_472e7_row5_col8 {\n",
       "  background-color: #9fbfff;\n",
       "  color: #000000;\n",
       "}\n",
       "#T_472e7_row5_col9, #T_472e7_row10_col5 {\n",
       "  background-color: #b9d0f9;\n",
       "  color: #000000;\n",
       "}\n",
       "#T_472e7_row5_col10, #T_472e7_row7_col8 {\n",
       "  background-color: #aac7fd;\n",
       "  color: #000000;\n",
       "}\n",
       "#T_472e7_row5_col12 {\n",
       "  background-color: #cad8ef;\n",
       "  color: #000000;\n",
       "}\n",
       "#T_472e7_row5_col14, #T_472e7_row6_col14, #T_472e7_row7_col14, #T_472e7_row8_col11, #T_472e7_row10_col14, #T_472e7_row11_col14, #T_472e7_row12_col14, #T_472e7_row13_col14 {\n",
       "  background-color: #3c4ec2;\n",
       "  color: #f1f1f1;\n",
       "}\n",
       "#T_472e7_row6_col0, #T_472e7_row6_col1, #T_472e7_row6_col11, #T_472e7_row7_col0, #T_472e7_row9_col7 {\n",
       "  background-color: #536edd;\n",
       "  color: #f1f1f1;\n",
       "}\n",
       "#T_472e7_row6_col2 {\n",
       "  background-color: #a9c6fd;\n",
       "  color: #000000;\n",
       "}\n",
       "#T_472e7_row6_col3 {\n",
       "  background-color: #9abbff;\n",
       "  color: #000000;\n",
       "}\n",
       "#T_472e7_row6_col4, #T_472e7_row13_col2 {\n",
       "  background-color: #97b8ff;\n",
       "  color: #000000;\n",
       "}\n",
       "#T_472e7_row6_col5 {\n",
       "  background-color: #f59f80;\n",
       "  color: #000000;\n",
       "}\n",
       "#T_472e7_row6_col8, #T_472e7_row7_col9, #T_472e7_row10_col2 {\n",
       "  background-color: #bbd1f8;\n",
       "  color: #000000;\n",
       "}\n",
       "#T_472e7_row6_col9, #T_472e7_row14_col8 {\n",
       "  background-color: #bed2f6;\n",
       "  color: #000000;\n",
       "}\n",
       "#T_472e7_row6_col10 {\n",
       "  background-color: #7295f4;\n",
       "  color: #f1f1f1;\n",
       "}\n",
       "#T_472e7_row6_col12 {\n",
       "  background-color: #8db0fe;\n",
       "  color: #000000;\n",
       "}\n",
       "#T_472e7_row7_col2 {\n",
       "  background-color: #c6d6f1;\n",
       "  color: #000000;\n",
       "}\n",
       "#T_472e7_row7_col4 {\n",
       "  background-color: #dadce0;\n",
       "  color: #000000;\n",
       "}\n",
       "#T_472e7_row7_col6 {\n",
       "  background-color: #7093f3;\n",
       "  color: #f1f1f1;\n",
       "}\n",
       "#T_472e7_row7_col11, #T_472e7_row9_col5, #T_472e7_row13_col5 {\n",
       "  background-color: #5b7ae5;\n",
       "  color: #f1f1f1;\n",
       "}\n",
       "#T_472e7_row8_col0 {\n",
       "  background-color: #688aef;\n",
       "  color: #f1f1f1;\n",
       "}\n",
       "#T_472e7_row9_col1, #T_472e7_row11_col5 {\n",
       "  background-color: #5d7ce6;\n",
       "  color: #f1f1f1;\n",
       "}\n",
       "#T_472e7_row9_col2 {\n",
       "  background-color: #e0dbd8;\n",
       "  color: #000000;\n",
       "}\n",
       "#T_472e7_row9_col3 {\n",
       "  background-color: #dbdcde;\n",
       "  color: #000000;\n",
       "}\n",
       "#T_472e7_row9_col4 {\n",
       "  background-color: #cedaeb;\n",
       "  color: #000000;\n",
       "}\n",
       "#T_472e7_row9_col6 {\n",
       "  background-color: #3e51c5;\n",
       "  color: #f1f1f1;\n",
       "}\n",
       "#T_472e7_row9_col11, #T_472e7_row14_col6 {\n",
       "  background-color: #4257c9;\n",
       "  color: #f1f1f1;\n",
       "}\n",
       "#T_472e7_row9_col13 {\n",
       "  background-color: #455cce;\n",
       "  color: #f1f1f1;\n",
       "}\n",
       "#T_472e7_row10_col3 {\n",
       "  background-color: #a7c5fe;\n",
       "  color: #000000;\n",
       "}\n",
       "#T_472e7_row10_col7 {\n",
       "  background-color: #5f7fe8;\n",
       "  color: #f1f1f1;\n",
       "}\n",
       "#T_472e7_row10_col8, #T_472e7_row13_col8 {\n",
       "  background-color: #afcafc;\n",
       "  color: #000000;\n",
       "}\n",
       "#T_472e7_row10_col9, #T_472e7_row11_col9, #T_472e7_row13_col9 {\n",
       "  background-color: #b3cdfb;\n",
       "  color: #000000;\n",
       "}\n",
       "#T_472e7_row10_col12, #T_472e7_row11_col12, #T_472e7_row12_col7, #T_472e7_row13_col4, #T_472e7_row13_col12 {\n",
       "  background-color: #7da0f9;\n",
       "  color: #f1f1f1;\n",
       "}\n",
       "#T_472e7_row11_col1, #T_472e7_row14_col13 {\n",
       "  background-color: #5572df;\n",
       "  color: #f1f1f1;\n",
       "}\n",
       "#T_472e7_row11_col2 {\n",
       "  background-color: #9bbcff;\n",
       "  color: #000000;\n",
       "}\n",
       "#T_472e7_row11_col3 {\n",
       "  background-color: #7699f6;\n",
       "  color: #f1f1f1;\n",
       "}\n",
       "#T_472e7_row11_col8 {\n",
       "  background-color: #aec9fc;\n",
       "  color: #000000;\n",
       "}\n",
       "#T_472e7_row12_col2 {\n",
       "  background-color: #9dbdff;\n",
       "  color: #000000;\n",
       "}\n",
       "#T_472e7_row12_col5 {\n",
       "  background-color: #b5cdfa;\n",
       "  color: #000000;\n",
       "}\n",
       "#T_472e7_row12_col9 {\n",
       "  background-color: #93b5fe;\n",
       "  color: #000000;\n",
       "}\n",
       "#T_472e7_row13_col3 {\n",
       "  background-color: #7597f6;\n",
       "  color: #f1f1f1;\n",
       "}\n",
       "#T_472e7_row13_col7 {\n",
       "  background-color: #5a78e4;\n",
       "  color: #f1f1f1;\n",
       "}\n",
       "#T_472e7_row14_col1 {\n",
       "  background-color: #5673e0;\n",
       "  color: #f1f1f1;\n",
       "}\n",
       "#T_472e7_row14_col2 {\n",
       "  background-color: #9ebeff;\n",
       "  color: #000000;\n",
       "}\n",
       "#T_472e7_row14_col3 {\n",
       "  background-color: #8caffe;\n",
       "  color: #000000;\n",
       "}\n",
       "#T_472e7_row14_col5 {\n",
       "  background-color: #6485ec;\n",
       "  color: #f1f1f1;\n",
       "}\n",
       "#T_472e7_row14_col7 {\n",
       "  background-color: #5977e3;\n",
       "  color: #f1f1f1;\n",
       "}\n",
       "</style>\n",
       "<table id=\"T_472e7\">\n",
       "  <thead>\n",
       "    <tr>\n",
       "      <th class=\"blank level0\" >&nbsp;</th>\n",
       "      <th id=\"T_472e7_level0_col0\" class=\"col_heading level0 col0\" >lat</th>\n",
       "      <th id=\"T_472e7_level0_col1\" class=\"col_heading level0 col1\" >lon</th>\n",
       "      <th id=\"T_472e7_level0_col2\" class=\"col_heading level0 col2\" >rooms</th>\n",
       "      <th id=\"T_472e7_level0_col3\" class=\"col_heading level0 col3\" >bedrooms</th>\n",
       "      <th id=\"T_472e7_level0_col4\" class=\"col_heading level0 col4\" >bathrooms</th>\n",
       "      <th id=\"T_472e7_level0_col5\" class=\"col_heading level0 col5\" >surface_total</th>\n",
       "      <th id=\"T_472e7_level0_col6\" class=\"col_heading level0 col6\" >surface_covered</th>\n",
       "      <th id=\"T_472e7_level0_col7\" class=\"col_heading level0 col7\" >price</th>\n",
       "      <th id=\"T_472e7_level0_col8\" class=\"col_heading level0 col8\" >Apartamento</th>\n",
       "      <th id=\"T_472e7_level0_col9\" class=\"col_heading level0 col9\" >Casa</th>\n",
       "      <th id=\"T_472e7_level0_col10\" class=\"col_heading level0 col10\" >Finca</th>\n",
       "      <th id=\"T_472e7_level0_col11\" class=\"col_heading level0 col11\" >Local comercial</th>\n",
       "      <th id=\"T_472e7_level0_col12\" class=\"col_heading level0 col12\" >Lote</th>\n",
       "      <th id=\"T_472e7_level0_col13\" class=\"col_heading level0 col13\" >Oficina</th>\n",
       "      <th id=\"T_472e7_level0_col14\" class=\"col_heading level0 col14\" >Parqueadero</th>\n",
       "    </tr>\n",
       "  </thead>\n",
       "  <tbody>\n",
       "    <tr>\n",
       "      <th id=\"T_472e7_level0_row0\" class=\"row_heading level0 row0\" >lat</th>\n",
       "      <td id=\"T_472e7_row0_col0\" class=\"data row0 col0\" >1.000000</td>\n",
       "      <td id=\"T_472e7_row0_col1\" class=\"data row0 col1\" >0.355364</td>\n",
       "      <td id=\"T_472e7_row0_col2\" class=\"data row0 col2\" >-0.089757</td>\n",
       "      <td id=\"T_472e7_row0_col3\" class=\"data row0 col3\" >-0.087846</td>\n",
       "      <td id=\"T_472e7_row0_col4\" class=\"data row0 col4\" >-0.078595</td>\n",
       "      <td id=\"T_472e7_row0_col5\" class=\"data row0 col5\" >-0.015002</td>\n",
       "      <td id=\"T_472e7_row0_col6\" class=\"data row0 col6\" >-0.002081</td>\n",
       "      <td id=\"T_472e7_row0_col7\" class=\"data row0 col7\" >-0.004473</td>\n",
       "      <td id=\"T_472e7_row0_col8\" class=\"data row0 col8\" >0.068248</td>\n",
       "      <td id=\"T_472e7_row0_col9\" class=\"data row0 col9\" >-0.028729</td>\n",
       "      <td id=\"T_472e7_row0_col10\" class=\"data row0 col10\" >-0.026257</td>\n",
       "      <td id=\"T_472e7_row0_col11\" class=\"data row0 col11\" >-0.018112</td>\n",
       "      <td id=\"T_472e7_row0_col12\" class=\"data row0 col12\" >-0.009089</td>\n",
       "      <td id=\"T_472e7_row0_col13\" class=\"data row0 col13\" >-0.015274</td>\n",
       "      <td id=\"T_472e7_row0_col14\" class=\"data row0 col14\" >0.002155</td>\n",
       "    </tr>\n",
       "    <tr>\n",
       "      <th id=\"T_472e7_level0_row1\" class=\"row_heading level0 row1\" >lon</th>\n",
       "      <td id=\"T_472e7_row1_col0\" class=\"data row1 col0\" >0.355364</td>\n",
       "      <td id=\"T_472e7_row1_col1\" class=\"data row1 col1\" >1.000000</td>\n",
       "      <td id=\"T_472e7_row1_col2\" class=\"data row1 col2\" >-0.095596</td>\n",
       "      <td id=\"T_472e7_row1_col3\" class=\"data row1 col3\" >-0.058126</td>\n",
       "      <td id=\"T_472e7_row1_col4\" class=\"data row1 col4\" >-0.031726</td>\n",
       "      <td id=\"T_472e7_row1_col5\" class=\"data row1 col5\" >0.008482</td>\n",
       "      <td id=\"T_472e7_row1_col6\" class=\"data row1 col6\" >-0.005963</td>\n",
       "      <td id=\"T_472e7_row1_col7\" class=\"data row1 col7\" >0.031944</td>\n",
       "      <td id=\"T_472e7_row1_col8\" class=\"data row1 col8\" >-0.002129</td>\n",
       "      <td id=\"T_472e7_row1_col9\" class=\"data row1 col9\" >0.028028</td>\n",
       "      <td id=\"T_472e7_row1_col10\" class=\"data row1 col10\" >-0.034198</td>\n",
       "      <td id=\"T_472e7_row1_col11\" class=\"data row1 col11\" >0.002719</td>\n",
       "      <td id=\"T_472e7_row1_col12\" class=\"data row1 col12\" >-0.013588</td>\n",
       "      <td id=\"T_472e7_row1_col13\" class=\"data row1 col13\" >0.029157</td>\n",
       "      <td id=\"T_472e7_row1_col14\" class=\"data row1 col14\" >0.004141</td>\n",
       "    </tr>\n",
       "    <tr>\n",
       "      <th id=\"T_472e7_level0_row2\" class=\"row_heading level0 row2\" >rooms</th>\n",
       "      <td id=\"T_472e7_row2_col0\" class=\"data row2 col0\" >-0.089757</td>\n",
       "      <td id=\"T_472e7_row2_col1\" class=\"data row2 col1\" >-0.095596</td>\n",
       "      <td id=\"T_472e7_row2_col2\" class=\"data row2 col2\" >1.000000</td>\n",
       "      <td id=\"T_472e7_row2_col3\" class=\"data row2 col3\" >0.999119</td>\n",
       "      <td id=\"T_472e7_row2_col4\" class=\"data row2 col4\" >0.660452</td>\n",
       "      <td id=\"T_472e7_row2_col5\" class=\"data row2 col5\" >0.084204</td>\n",
       "      <td id=\"T_472e7_row2_col6\" class=\"data row2 col6\" >0.048296</td>\n",
       "      <td id=\"T_472e7_row2_col7\" class=\"data row2 col7\" >0.174028</td>\n",
       "      <td id=\"T_472e7_row2_col8\" class=\"data row2 col8\" >-0.424522</td>\n",
       "      <td id=\"T_472e7_row2_col9\" class=\"data row2 col9\" >0.307650</td>\n",
       "      <td id=\"T_472e7_row2_col10\" class=\"data row2 col10\" >0.121515</td>\n",
       "      <td id=\"T_472e7_row2_col11\" class=\"data row2 col11\" >-0.011758</td>\n",
       "      <td id=\"T_472e7_row2_col12\" class=\"data row2 col12\" >-0.005130</td>\n",
       "      <td id=\"T_472e7_row2_col13\" class=\"data row2 col13\" >-0.024329</td>\n",
       "      <td id=\"T_472e7_row2_col14\" class=\"data row2 col14\" >0.003503</td>\n",
       "    </tr>\n",
       "    <tr>\n",
       "      <th id=\"T_472e7_level0_row3\" class=\"row_heading level0 row3\" >bedrooms</th>\n",
       "      <td id=\"T_472e7_row3_col0\" class=\"data row3 col0\" >-0.087846</td>\n",
       "      <td id=\"T_472e7_row3_col1\" class=\"data row3 col1\" >-0.058126</td>\n",
       "      <td id=\"T_472e7_row3_col2\" class=\"data row3 col2\" >0.999119</td>\n",
       "      <td id=\"T_472e7_row3_col3\" class=\"data row3 col3\" >1.000000</td>\n",
       "      <td id=\"T_472e7_row3_col4\" class=\"data row3 col4\" >0.592654</td>\n",
       "      <td id=\"T_472e7_row3_col5\" class=\"data row3 col5\" >0.068549</td>\n",
       "      <td id=\"T_472e7_row3_col6\" class=\"data row3 col6\" >0.043320</td>\n",
       "      <td id=\"T_472e7_row3_col7\" class=\"data row3 col7\" >0.084875</td>\n",
       "      <td id=\"T_472e7_row3_col8\" class=\"data row3 col8\" >-0.341072</td>\n",
       "      <td id=\"T_472e7_row3_col9\" class=\"data row3 col9\" >0.321361</td>\n",
       "      <td id=\"T_472e7_row3_col10\" class=\"data row3 col10\" >0.094060</td>\n",
       "      <td id=\"T_472e7_row3_col11\" class=\"data row3 col11\" >-0.090141</td>\n",
       "      <td id=\"T_472e7_row3_col12\" class=\"data row3 col12\" >-0.123171</td>\n",
       "      <td id=\"T_472e7_row3_col13\" class=\"data row3 col13\" >-0.097596</td>\n",
       "      <td id=\"T_472e7_row3_col14\" class=\"data row3 col14\" >-0.006604</td>\n",
       "    </tr>\n",
       "    <tr>\n",
       "      <th id=\"T_472e7_level0_row4\" class=\"row_heading level0 row4\" >bathrooms</th>\n",
       "      <td id=\"T_472e7_row4_col0\" class=\"data row4 col0\" >-0.078595</td>\n",
       "      <td id=\"T_472e7_row4_col1\" class=\"data row4 col1\" >-0.031726</td>\n",
       "      <td id=\"T_472e7_row4_col2\" class=\"data row4 col2\" >0.660452</td>\n",
       "      <td id=\"T_472e7_row4_col3\" class=\"data row4 col3\" >0.592654</td>\n",
       "      <td id=\"T_472e7_row4_col4\" class=\"data row4 col4\" >1.000000</td>\n",
       "      <td id=\"T_472e7_row4_col5\" class=\"data row4 col5\" >0.104650</td>\n",
       "      <td id=\"T_472e7_row4_col6\" class=\"data row4 col6\" >0.052947</td>\n",
       "      <td id=\"T_472e7_row4_col7\" class=\"data row4 col7\" >0.328040</td>\n",
       "      <td id=\"T_472e7_row4_col8\" class=\"data row4 col8\" >-0.314651</td>\n",
       "      <td id=\"T_472e7_row4_col9\" class=\"data row4 col9\" >0.271987</td>\n",
       "      <td id=\"T_472e7_row4_col10\" class=\"data row4 col10\" >0.021963</td>\n",
       "      <td id=\"T_472e7_row4_col11\" class=\"data row4 col11\" >-0.023045</td>\n",
       "      <td id=\"T_472e7_row4_col12\" class=\"data row4 col12\" >-0.003202</td>\n",
       "      <td id=\"T_472e7_row4_col13\" class=\"data row4 col13\" >-0.043423</td>\n",
       "      <td id=\"T_472e7_row4_col14\" class=\"data row4 col14\" >nan</td>\n",
       "    </tr>\n",
       "    <tr>\n",
       "      <th id=\"T_472e7_level0_row5\" class=\"row_heading level0 row5\" >surface_total</th>\n",
       "      <td id=\"T_472e7_row5_col0\" class=\"data row5 col0\" >-0.015002</td>\n",
       "      <td id=\"T_472e7_row5_col1\" class=\"data row5 col1\" >0.008482</td>\n",
       "      <td id=\"T_472e7_row5_col2\" class=\"data row5 col2\" >0.084204</td>\n",
       "      <td id=\"T_472e7_row5_col3\" class=\"data row5 col3\" >0.068549</td>\n",
       "      <td id=\"T_472e7_row5_col4\" class=\"data row5 col4\" >0.104650</td>\n",
       "      <td id=\"T_472e7_row5_col5\" class=\"data row5 col5\" >1.000000</td>\n",
       "      <td id=\"T_472e7_row5_col6\" class=\"data row5 col6\" >0.693971</td>\n",
       "      <td id=\"T_472e7_row5_col7\" class=\"data row5 col7\" >0.302464</td>\n",
       "      <td id=\"T_472e7_row5_col8\" class=\"data row5 col8\" >-0.157288</td>\n",
       "      <td id=\"T_472e7_row5_col9\" class=\"data row5 col9\" >-0.034804</td>\n",
       "      <td id=\"T_472e7_row5_col10\" class=\"data row5 col10\" >0.280226</td>\n",
       "      <td id=\"T_472e7_row5_col11\" class=\"data row5 col11\" >-0.027444</td>\n",
       "      <td id=\"T_472e7_row5_col12\" class=\"data row5 col12\" >0.264033</td>\n",
       "      <td id=\"T_472e7_row5_col13\" class=\"data row5 col13\" >-0.033116</td>\n",
       "      <td id=\"T_472e7_row5_col14\" class=\"data row5 col14\" >-0.001716</td>\n",
       "    </tr>\n",
       "    <tr>\n",
       "      <th id=\"T_472e7_level0_row6\" class=\"row_heading level0 row6\" >surface_covered</th>\n",
       "      <td id=\"T_472e7_row6_col0\" class=\"data row6 col0\" >-0.002081</td>\n",
       "      <td id=\"T_472e7_row6_col1\" class=\"data row6 col1\" >-0.005963</td>\n",
       "      <td id=\"T_472e7_row6_col2\" class=\"data row6 col2\" >0.048296</td>\n",
       "      <td id=\"T_472e7_row6_col3\" class=\"data row6 col3\" >0.043320</td>\n",
       "      <td id=\"T_472e7_row6_col4\" class=\"data row6 col4\" >0.052947</td>\n",
       "      <td id=\"T_472e7_row6_col5\" class=\"data row6 col5\" >0.693971</td>\n",
       "      <td id=\"T_472e7_row6_col6\" class=\"data row6 col6\" >1.000000</td>\n",
       "      <td id=\"T_472e7_row6_col7\" class=\"data row6 col7\" >0.148000</td>\n",
       "      <td id=\"T_472e7_row6_col8\" class=\"data row6 col8\" >-0.025060</td>\n",
       "      <td id=\"T_472e7_row6_col9\" class=\"data row6 col9\" >-0.009422</td>\n",
       "      <td id=\"T_472e7_row6_col10\" class=\"data row6 col10\" >0.104063</td>\n",
       "      <td id=\"T_472e7_row6_col11\" class=\"data row6 col11\" >-0.003255</td>\n",
       "      <td id=\"T_472e7_row6_col12\" class=\"data row6 col12\" >0.033310</td>\n",
       "      <td id=\"T_472e7_row6_col13\" class=\"data row6 col13\" >-0.004177</td>\n",
       "      <td id=\"T_472e7_row6_col14\" class=\"data row6 col14\" >-0.000038</td>\n",
       "    </tr>\n",
       "    <tr>\n",
       "      <th id=\"T_472e7_level0_row7\" class=\"row_heading level0 row7\" >price</th>\n",
       "      <td id=\"T_472e7_row7_col0\" class=\"data row7 col0\" >-0.004473</td>\n",
       "      <td id=\"T_472e7_row7_col1\" class=\"data row7 col1\" >0.031944</td>\n",
       "      <td id=\"T_472e7_row7_col2\" class=\"data row7 col2\" >0.174028</td>\n",
       "      <td id=\"T_472e7_row7_col3\" class=\"data row7 col3\" >0.084875</td>\n",
       "      <td id=\"T_472e7_row7_col4\" class=\"data row7 col4\" >0.328040</td>\n",
       "      <td id=\"T_472e7_row7_col5\" class=\"data row7 col5\" >0.302464</td>\n",
       "      <td id=\"T_472e7_row7_col6\" class=\"data row7 col6\" >0.148000</td>\n",
       "      <td id=\"T_472e7_row7_col7\" class=\"data row7 col7\" >1.000000</td>\n",
       "      <td id=\"T_472e7_row7_col8\" class=\"data row7 col8\" >-0.110520</td>\n",
       "      <td id=\"T_472e7_row7_col9\" class=\"data row7 col9\" >-0.021257</td>\n",
       "      <td id=\"T_472e7_row7_col10\" class=\"data row7 col10\" >0.020765</td>\n",
       "      <td id=\"T_472e7_row7_col11\" class=\"data row7 col11\" >0.028466</td>\n",
       "      <td id=\"T_472e7_row7_col12\" class=\"data row7 col12\" >0.118082</td>\n",
       "      <td id=\"T_472e7_row7_col13\" class=\"data row7 col13\" >0.006455</td>\n",
       "      <td id=\"T_472e7_row7_col14\" class=\"data row7 col14\" >-0.000309</td>\n",
       "    </tr>\n",
       "    <tr>\n",
       "      <th id=\"T_472e7_level0_row8\" class=\"row_heading level0 row8\" >Apartamento</th>\n",
       "      <td id=\"T_472e7_row8_col0\" class=\"data row8 col0\" >0.068248</td>\n",
       "      <td id=\"T_472e7_row8_col1\" class=\"data row8 col1\" >-0.002129</td>\n",
       "      <td id=\"T_472e7_row8_col2\" class=\"data row8 col2\" >-0.424522</td>\n",
       "      <td id=\"T_472e7_row8_col3\" class=\"data row8 col3\" >-0.341072</td>\n",
       "      <td id=\"T_472e7_row8_col4\" class=\"data row8 col4\" >-0.314651</td>\n",
       "      <td id=\"T_472e7_row8_col5\" class=\"data row8 col5\" >-0.157288</td>\n",
       "      <td id=\"T_472e7_row8_col6\" class=\"data row8 col6\" >-0.025060</td>\n",
       "      <td id=\"T_472e7_row8_col7\" class=\"data row8 col7\" >-0.110520</td>\n",
       "      <td id=\"T_472e7_row8_col8\" class=\"data row8 col8\" >1.000000</td>\n",
       "      <td id=\"T_472e7_row8_col9\" class=\"data row8 col9\" >-0.662691</td>\n",
       "      <td id=\"T_472e7_row8_col10\" class=\"data row8 col10\" >-0.082304</td>\n",
       "      <td id=\"T_472e7_row8_col11\" class=\"data row8 col11\" >-0.085219</td>\n",
       "      <td id=\"T_472e7_row8_col12\" class=\"data row8 col12\" >-0.291713</td>\n",
       "      <td id=\"T_472e7_row8_col13\" class=\"data row8 col13\" >-0.078746</td>\n",
       "      <td id=\"T_472e7_row8_col14\" class=\"data row8 col14\" >-0.006933</td>\n",
       "    </tr>\n",
       "    <tr>\n",
       "      <th id=\"T_472e7_level0_row9\" class=\"row_heading level0 row9\" >Casa</th>\n",
       "      <td id=\"T_472e7_row9_col0\" class=\"data row9 col0\" >-0.028729</td>\n",
       "      <td id=\"T_472e7_row9_col1\" class=\"data row9 col1\" >0.028028</td>\n",
       "      <td id=\"T_472e7_row9_col2\" class=\"data row9 col2\" >0.307650</td>\n",
       "      <td id=\"T_472e7_row9_col3\" class=\"data row9 col3\" >0.321361</td>\n",
       "      <td id=\"T_472e7_row9_col4\" class=\"data row9 col4\" >0.271987</td>\n",
       "      <td id=\"T_472e7_row9_col5\" class=\"data row9 col5\" >-0.034804</td>\n",
       "      <td id=\"T_472e7_row9_col6\" class=\"data row9 col6\" >-0.009422</td>\n",
       "      <td id=\"T_472e7_row9_col7\" class=\"data row9 col7\" >-0.021257</td>\n",
       "      <td id=\"T_472e7_row9_col8\" class=\"data row9 col8\" >-0.662691</td>\n",
       "      <td id=\"T_472e7_row9_col9\" class=\"data row9 col9\" >1.000000</td>\n",
       "      <td id=\"T_472e7_row9_col10\" class=\"data row9 col10\" >-0.061344</td>\n",
       "      <td id=\"T_472e7_row9_col11\" class=\"data row9 col11\" >-0.063516</td>\n",
       "      <td id=\"T_472e7_row9_col12\" class=\"data row9 col12\" >-0.217422</td>\n",
       "      <td id=\"T_472e7_row9_col13\" class=\"data row9 col13\" >-0.058692</td>\n",
       "      <td id=\"T_472e7_row9_col14\" class=\"data row9 col14\" >-0.005167</td>\n",
       "    </tr>\n",
       "    <tr>\n",
       "      <th id=\"T_472e7_level0_row10\" class=\"row_heading level0 row10\" >Finca</th>\n",
       "      <td id=\"T_472e7_row10_col0\" class=\"data row10 col0\" >-0.026257</td>\n",
       "      <td id=\"T_472e7_row10_col1\" class=\"data row10 col1\" >-0.034198</td>\n",
       "      <td id=\"T_472e7_row10_col2\" class=\"data row10 col2\" >0.121515</td>\n",
       "      <td id=\"T_472e7_row10_col3\" class=\"data row10 col3\" >0.094060</td>\n",
       "      <td id=\"T_472e7_row10_col4\" class=\"data row10 col4\" >0.021963</td>\n",
       "      <td id=\"T_472e7_row10_col5\" class=\"data row10 col5\" >0.280226</td>\n",
       "      <td id=\"T_472e7_row10_col6\" class=\"data row10 col6\" >0.104063</td>\n",
       "      <td id=\"T_472e7_row10_col7\" class=\"data row10 col7\" >0.020765</td>\n",
       "      <td id=\"T_472e7_row10_col8\" class=\"data row10 col8\" >-0.082304</td>\n",
       "      <td id=\"T_472e7_row10_col9\" class=\"data row10 col9\" >-0.061344</td>\n",
       "      <td id=\"T_472e7_row10_col10\" class=\"data row10 col10\" >1.000000</td>\n",
       "      <td id=\"T_472e7_row10_col11\" class=\"data row10 col11\" >-0.007889</td>\n",
       "      <td id=\"T_472e7_row10_col12\" class=\"data row10 col12\" >-0.027003</td>\n",
       "      <td id=\"T_472e7_row10_col13\" class=\"data row10 col13\" >-0.007289</td>\n",
       "      <td id=\"T_472e7_row10_col14\" class=\"data row10 col14\" >-0.000642</td>\n",
       "    </tr>\n",
       "    <tr>\n",
       "      <th id=\"T_472e7_level0_row11\" class=\"row_heading level0 row11\" >Local comercial</th>\n",
       "      <td id=\"T_472e7_row11_col0\" class=\"data row11 col0\" >-0.018112</td>\n",
       "      <td id=\"T_472e7_row11_col1\" class=\"data row11 col1\" >0.002719</td>\n",
       "      <td id=\"T_472e7_row11_col2\" class=\"data row11 col2\" >-0.011758</td>\n",
       "      <td id=\"T_472e7_row11_col3\" class=\"data row11 col3\" >-0.090141</td>\n",
       "      <td id=\"T_472e7_row11_col4\" class=\"data row11 col4\" >-0.023045</td>\n",
       "      <td id=\"T_472e7_row11_col5\" class=\"data row11 col5\" >-0.027444</td>\n",
       "      <td id=\"T_472e7_row11_col6\" class=\"data row11 col6\" >-0.003255</td>\n",
       "      <td id=\"T_472e7_row11_col7\" class=\"data row11 col7\" >0.028466</td>\n",
       "      <td id=\"T_472e7_row11_col8\" class=\"data row11 col8\" >-0.085219</td>\n",
       "      <td id=\"T_472e7_row11_col9\" class=\"data row11 col9\" >-0.063516</td>\n",
       "      <td id=\"T_472e7_row11_col10\" class=\"data row11 col10\" >-0.007889</td>\n",
       "      <td id=\"T_472e7_row11_col11\" class=\"data row11 col11\" >1.000000</td>\n",
       "      <td id=\"T_472e7_row11_col12\" class=\"data row11 col12\" >-0.027959</td>\n",
       "      <td id=\"T_472e7_row11_col13\" class=\"data row11 col13\" >-0.007547</td>\n",
       "      <td id=\"T_472e7_row11_col14\" class=\"data row11 col14\" >-0.000664</td>\n",
       "    </tr>\n",
       "    <tr>\n",
       "      <th id=\"T_472e7_level0_row12\" class=\"row_heading level0 row12\" >Lote</th>\n",
       "      <td id=\"T_472e7_row12_col0\" class=\"data row12 col0\" >-0.009089</td>\n",
       "      <td id=\"T_472e7_row12_col1\" class=\"data row12 col1\" >-0.013588</td>\n",
       "      <td id=\"T_472e7_row12_col2\" class=\"data row12 col2\" >-0.005130</td>\n",
       "      <td id=\"T_472e7_row12_col3\" class=\"data row12 col3\" >-0.123171</td>\n",
       "      <td id=\"T_472e7_row12_col4\" class=\"data row12 col4\" >-0.003202</td>\n",
       "      <td id=\"T_472e7_row12_col5\" class=\"data row12 col5\" >0.264033</td>\n",
       "      <td id=\"T_472e7_row12_col6\" class=\"data row12 col6\" >0.033310</td>\n",
       "      <td id=\"T_472e7_row12_col7\" class=\"data row12 col7\" >0.118082</td>\n",
       "      <td id=\"T_472e7_row12_col8\" class=\"data row12 col8\" >-0.291713</td>\n",
       "      <td id=\"T_472e7_row12_col9\" class=\"data row12 col9\" >-0.217422</td>\n",
       "      <td id=\"T_472e7_row12_col10\" class=\"data row12 col10\" >-0.027003</td>\n",
       "      <td id=\"T_472e7_row12_col11\" class=\"data row12 col11\" >-0.027959</td>\n",
       "      <td id=\"T_472e7_row12_col12\" class=\"data row12 col12\" >1.000000</td>\n",
       "      <td id=\"T_472e7_row12_col13\" class=\"data row12 col13\" >-0.025836</td>\n",
       "      <td id=\"T_472e7_row12_col14\" class=\"data row12 col14\" >-0.002275</td>\n",
       "    </tr>\n",
       "    <tr>\n",
       "      <th id=\"T_472e7_level0_row13\" class=\"row_heading level0 row13\" >Oficina</th>\n",
       "      <td id=\"T_472e7_row13_col0\" class=\"data row13 col0\" >-0.015274</td>\n",
       "      <td id=\"T_472e7_row13_col1\" class=\"data row13 col1\" >0.029157</td>\n",
       "      <td id=\"T_472e7_row13_col2\" class=\"data row13 col2\" >-0.024329</td>\n",
       "      <td id=\"T_472e7_row13_col3\" class=\"data row13 col3\" >-0.097596</td>\n",
       "      <td id=\"T_472e7_row13_col4\" class=\"data row13 col4\" >-0.043423</td>\n",
       "      <td id=\"T_472e7_row13_col5\" class=\"data row13 col5\" >-0.033116</td>\n",
       "      <td id=\"T_472e7_row13_col6\" class=\"data row13 col6\" >-0.004177</td>\n",
       "      <td id=\"T_472e7_row13_col7\" class=\"data row13 col7\" >0.006455</td>\n",
       "      <td id=\"T_472e7_row13_col8\" class=\"data row13 col8\" >-0.078746</td>\n",
       "      <td id=\"T_472e7_row13_col9\" class=\"data row13 col9\" >-0.058692</td>\n",
       "      <td id=\"T_472e7_row13_col10\" class=\"data row13 col10\" >-0.007289</td>\n",
       "      <td id=\"T_472e7_row13_col11\" class=\"data row13 col11\" >-0.007547</td>\n",
       "      <td id=\"T_472e7_row13_col12\" class=\"data row13 col12\" >-0.025836</td>\n",
       "      <td id=\"T_472e7_row13_col13\" class=\"data row13 col13\" >1.000000</td>\n",
       "      <td id=\"T_472e7_row13_col14\" class=\"data row13 col14\" >-0.000614</td>\n",
       "    </tr>\n",
       "    <tr>\n",
       "      <th id=\"T_472e7_level0_row14\" class=\"row_heading level0 row14\" >Parqueadero</th>\n",
       "      <td id=\"T_472e7_row14_col0\" class=\"data row14 col0\" >0.002155</td>\n",
       "      <td id=\"T_472e7_row14_col1\" class=\"data row14 col1\" >0.004141</td>\n",
       "      <td id=\"T_472e7_row14_col2\" class=\"data row14 col2\" >0.003503</td>\n",
       "      <td id=\"T_472e7_row14_col3\" class=\"data row14 col3\" >-0.006604</td>\n",
       "      <td id=\"T_472e7_row14_col4\" class=\"data row14 col4\" >nan</td>\n",
       "      <td id=\"T_472e7_row14_col5\" class=\"data row14 col5\" >-0.001716</td>\n",
       "      <td id=\"T_472e7_row14_col6\" class=\"data row14 col6\" >-0.000038</td>\n",
       "      <td id=\"T_472e7_row14_col7\" class=\"data row14 col7\" >-0.000309</td>\n",
       "      <td id=\"T_472e7_row14_col8\" class=\"data row14 col8\" >-0.006933</td>\n",
       "      <td id=\"T_472e7_row14_col9\" class=\"data row14 col9\" >-0.005167</td>\n",
       "      <td id=\"T_472e7_row14_col10\" class=\"data row14 col10\" >-0.000642</td>\n",
       "      <td id=\"T_472e7_row14_col11\" class=\"data row14 col11\" >-0.000664</td>\n",
       "      <td id=\"T_472e7_row14_col12\" class=\"data row14 col12\" >-0.002275</td>\n",
       "      <td id=\"T_472e7_row14_col13\" class=\"data row14 col13\" >-0.000614</td>\n",
       "      <td id=\"T_472e7_row14_col14\" class=\"data row14 col14\" >1.000000</td>\n",
       "    </tr>\n",
       "  </tbody>\n",
       "</table>\n"
      ],
      "text/plain": [
       "<pandas.io.formats.style.Styler at 0x15ba9dd90>"
      ]
     },
     "execution_count": 23,
     "metadata": {},
     "output_type": "execute_result"
    }
   ],
   "source": [
    "corr = df_train.corr()\n",
    "corr.style.background_gradient(cmap='coolwarm')"
   ]
  },
  {
   "cell_type": "markdown",
   "metadata": {},
   "source": [
    "Rooms and bedrooms are highly correlated so I use rooms data to fill the bedrooms missing information."
   ]
  },
  {
   "cell_type": "code",
   "execution_count": 24,
   "metadata": {},
   "outputs": [],
   "source": [
    "df_train.bedrooms.fillna(df_train.rooms,inplace=True)"
   ]
  },
  {
   "cell_type": "code",
   "execution_count": 25,
   "metadata": {},
   "outputs": [],
   "source": [
    "df_train.drop('rooms',axis=1,inplace=True)"
   ]
  },
  {
   "cell_type": "markdown",
   "metadata": {},
   "source": [
    "We can use the bedrooms data to predict the missing values in bathrooms."
   ]
  },
  {
   "cell_type": "code",
   "execution_count": 26,
   "metadata": {},
   "outputs": [],
   "source": [
    "df_regression = pd.concat([df_train.bathrooms,df_train.bedrooms],axis=1)"
   ]
  },
  {
   "cell_type": "code",
   "execution_count": 27,
   "metadata": {},
   "outputs": [],
   "source": [
    "df_regression.dropna(inplace=True)"
   ]
  },
  {
   "cell_type": "code",
   "execution_count": 28,
   "metadata": {},
   "outputs": [
    {
     "name": "stdout",
     "output_type": "stream",
     "text": [
      "<class 'pandas.core.frame.DataFrame'>\n",
      "Int64Index: 18735 entries, 0 to 197542\n",
      "Data columns (total 2 columns):\n",
      " #   Column     Non-Null Count  Dtype  \n",
      "---  ------     --------------  -----  \n",
      " 0   bathrooms  18735 non-null  float64\n",
      " 1   bedrooms   18735 non-null  float64\n",
      "dtypes: float64(2)\n",
      "memory usage: 439.1 KB\n"
     ]
    }
   ],
   "source": [
    "df_regression.info()"
   ]
  },
  {
   "cell_type": "markdown",
   "metadata": {},
   "source": [
    "#### Regression Model"
   ]
  },
  {
   "cell_type": "code",
   "execution_count": 29,
   "metadata": {},
   "outputs": [
    {
     "data": {
      "text/html": [
       "<style>#sk-container-id-1 {color: black;background-color: white;}#sk-container-id-1 pre{padding: 0;}#sk-container-id-1 div.sk-toggleable {background-color: white;}#sk-container-id-1 label.sk-toggleable__label {cursor: pointer;display: block;width: 100%;margin-bottom: 0;padding: 0.3em;box-sizing: border-box;text-align: center;}#sk-container-id-1 label.sk-toggleable__label-arrow:before {content: \"▸\";float: left;margin-right: 0.25em;color: #696969;}#sk-container-id-1 label.sk-toggleable__label-arrow:hover:before {color: black;}#sk-container-id-1 div.sk-estimator:hover label.sk-toggleable__label-arrow:before {color: black;}#sk-container-id-1 div.sk-toggleable__content {max-height: 0;max-width: 0;overflow: hidden;text-align: left;background-color: #f0f8ff;}#sk-container-id-1 div.sk-toggleable__content pre {margin: 0.2em;color: black;border-radius: 0.25em;background-color: #f0f8ff;}#sk-container-id-1 input.sk-toggleable__control:checked~div.sk-toggleable__content {max-height: 200px;max-width: 100%;overflow: auto;}#sk-container-id-1 input.sk-toggleable__control:checked~label.sk-toggleable__label-arrow:before {content: \"▾\";}#sk-container-id-1 div.sk-estimator input.sk-toggleable__control:checked~label.sk-toggleable__label {background-color: #d4ebff;}#sk-container-id-1 div.sk-label input.sk-toggleable__control:checked~label.sk-toggleable__label {background-color: #d4ebff;}#sk-container-id-1 input.sk-hidden--visually {border: 0;clip: rect(1px 1px 1px 1px);clip: rect(1px, 1px, 1px, 1px);height: 1px;margin: -1px;overflow: hidden;padding: 0;position: absolute;width: 1px;}#sk-container-id-1 div.sk-estimator {font-family: monospace;background-color: #f0f8ff;border: 1px dotted black;border-radius: 0.25em;box-sizing: border-box;margin-bottom: 0.5em;}#sk-container-id-1 div.sk-estimator:hover {background-color: #d4ebff;}#sk-container-id-1 div.sk-parallel-item::after {content: \"\";width: 100%;border-bottom: 1px solid gray;flex-grow: 1;}#sk-container-id-1 div.sk-label:hover label.sk-toggleable__label {background-color: #d4ebff;}#sk-container-id-1 div.sk-serial::before {content: \"\";position: absolute;border-left: 1px solid gray;box-sizing: border-box;top: 0;bottom: 0;left: 50%;z-index: 0;}#sk-container-id-1 div.sk-serial {display: flex;flex-direction: column;align-items: center;background-color: white;padding-right: 0.2em;padding-left: 0.2em;position: relative;}#sk-container-id-1 div.sk-item {position: relative;z-index: 1;}#sk-container-id-1 div.sk-parallel {display: flex;align-items: stretch;justify-content: center;background-color: white;position: relative;}#sk-container-id-1 div.sk-item::before, #sk-container-id-1 div.sk-parallel-item::before {content: \"\";position: absolute;border-left: 1px solid gray;box-sizing: border-box;top: 0;bottom: 0;left: 50%;z-index: -1;}#sk-container-id-1 div.sk-parallel-item {display: flex;flex-direction: column;z-index: 1;position: relative;background-color: white;}#sk-container-id-1 div.sk-parallel-item:first-child::after {align-self: flex-end;width: 50%;}#sk-container-id-1 div.sk-parallel-item:last-child::after {align-self: flex-start;width: 50%;}#sk-container-id-1 div.sk-parallel-item:only-child::after {width: 0;}#sk-container-id-1 div.sk-dashed-wrapped {border: 1px dashed gray;margin: 0 0.4em 0.5em 0.4em;box-sizing: border-box;padding-bottom: 0.4em;background-color: white;}#sk-container-id-1 div.sk-label label {font-family: monospace;font-weight: bold;display: inline-block;line-height: 1.2em;}#sk-container-id-1 div.sk-label-container {text-align: center;}#sk-container-id-1 div.sk-container {/* jupyter's `normalize.less` sets `[hidden] { display: none; }` but bootstrap.min.css set `[hidden] { display: none !important; }` so we also need the `!important` here to be able to override the default hidden behavior on the sphinx rendered scikit-learn.org. See: https://github.com/scikit-learn/scikit-learn/issues/21755 */display: inline-block !important;position: relative;}#sk-container-id-1 div.sk-text-repr-fallback {display: none;}</style><div id=\"sk-container-id-1\" class=\"sk-top-container\"><div class=\"sk-text-repr-fallback\"><pre>LinearRegression()</pre><b>In a Jupyter environment, please rerun this cell to show the HTML representation or trust the notebook. <br />On GitHub, the HTML representation is unable to render, please try loading this page with nbviewer.org.</b></div><div class=\"sk-container\" hidden><div class=\"sk-item\"><div class=\"sk-estimator sk-toggleable\"><input class=\"sk-toggleable__control sk-hidden--visually\" id=\"sk-estimator-id-1\" type=\"checkbox\" checked><label for=\"sk-estimator-id-1\" class=\"sk-toggleable__label sk-toggleable__label-arrow\">LinearRegression</label><div class=\"sk-toggleable__content\"><pre>LinearRegression()</pre></div></div></div></div></div>"
      ],
      "text/plain": [
       "LinearRegression()"
      ]
     },
     "execution_count": 29,
     "metadata": {},
     "output_type": "execute_result"
    }
   ],
   "source": [
    "from sklearn.model_selection import train_test_split\n",
    "from sklearn.linear_model import LinearRegression\n",
    "\n",
    "X=df_regression.bedrooms.values.reshape(-1,1)\n",
    "y=df_regression.bathrooms.values\n",
    "\n",
    "X_train, X_test, y_train, y_test = train_test_split(X, y, test_size=0.25,random_state=42)\n",
    "model = LinearRegression()\n",
    "model.fit(X_train, y_train)"
   ]
  },
  {
   "cell_type": "markdown",
   "metadata": {},
   "source": [
    "R-scored"
   ]
  },
  {
   "cell_type": "code",
   "execution_count": 30,
   "metadata": {},
   "outputs": [
    {
     "data": {
      "text/plain": [
       "0.35368697858638987"
      ]
     },
     "execution_count": 30,
     "metadata": {},
     "output_type": "execute_result"
    }
   ],
   "source": [
    "model.score(X_test,y_test)"
   ]
  },
  {
   "cell_type": "markdown",
   "metadata": {},
   "source": [
    "R-scored with coss-validation"
   ]
  },
  {
   "cell_type": "code",
   "execution_count": 31,
   "metadata": {},
   "outputs": [],
   "source": [
    "from sklearn.model_selection import cross_val_score, KFold\n",
    "kf = KFold(n_splits=6, shuffle=True, random_state=42)\n",
    "reg = LinearRegression()\n",
    "cv_results = cross_val_score(reg, X, y, cv=kf)"
   ]
  },
  {
   "cell_type": "code",
   "execution_count": 32,
   "metadata": {},
   "outputs": [
    {
     "name": "stdout",
     "output_type": "stream",
     "text": [
      "0.34947741160763934 0.031738218525375436\n"
     ]
    }
   ],
   "source": [
    "print(np.mean(cv_results), np.std(cv_results))"
   ]
  },
  {
   "cell_type": "code",
   "execution_count": 33,
   "metadata": {},
   "outputs": [
    {
     "name": "stdout",
     "output_type": "stream",
     "text": [
      "[0.31107762 0.4019719 ]\n"
     ]
    }
   ],
   "source": [
    "print(np.quantile(cv_results, [0.025, 0.975]))"
   ]
  },
  {
   "cell_type": "markdown",
   "metadata": {},
   "source": [
    "Model parameters"
   ]
  },
  {
   "cell_type": "code",
   "execution_count": 34,
   "metadata": {},
   "outputs": [
    {
     "name": "stdout",
     "output_type": "stream",
     "text": [
      "0.5253806490470895\n",
      "1.0875902937526012\n"
     ]
    }
   ],
   "source": [
    "print(model.coef_[0])\n",
    "print(model.intercept_)"
   ]
  },
  {
   "cell_type": "code",
   "execution_count": 35,
   "metadata": {},
   "outputs": [
    {
     "data": {
      "image/png": "[encoded data removed]",
      "text/plain": [
       "<Figure size 640x480 with 1 Axes>"
      ]
     },
     "metadata": {},
     "output_type": "display_data"
    }
   ],
   "source": [
    "y_pred = model.predict(X_test)\n",
    "plt.text(27, 3, '$R^2 = 0.35$', fontsize = 15, bbox = dict(facecolor = 'white', alpha = 0.5))\n",
    "plt.scatter(X_test, y_test, color=\"black\")\n",
    "plt.plot(X_test, y_pred, color=\"red\", linewidth=3)\n",
    "plt.xlabel('Number of bedrooms')\n",
    "plt.ylabel('Number of bathrooms')\n",
    "plt.show()"
   ]
  },
  {
   "cell_type": "markdown",
   "metadata": {},
   "source": [
    "Now I apply this model to predict the missing data in bathrooms."
   ]
  },
  {
   "cell_type": "code",
   "execution_count": 36,
   "metadata": {},
   "outputs": [],
   "source": [
    "df_train.bathrooms.fillna(df_train.bedrooms*model.coef_[0]+model.intercept_,inplace=True)"
   ]
  },
  {
   "cell_type": "code",
   "execution_count": 37,
   "metadata": {},
   "outputs": [],
   "source": [
    "df_train.drop('bedrooms',axis=1,inplace=True)"
   ]
  },
  {
   "cell_type": "code",
   "execution_count": 38,
   "metadata": {},
   "outputs": [
    {
     "name": "stdout",
     "output_type": "stream",
     "text": [
      "<class 'pandas.core.frame.DataFrame'>\n",
      "Int64Index: 147994 entries, 0 to 197548\n",
      "Data columns (total 13 columns):\n",
      " #   Column           Non-Null Count   Dtype  \n",
      "---  ------           --------------   -----  \n",
      " 0   lat              147994 non-null  float64\n",
      " 1   lon              147994 non-null  float64\n",
      " 2   bathrooms        130212 non-null  float64\n",
      " 3   surface_total    6476 non-null    float64\n",
      " 4   surface_covered  9175 non-null    float64\n",
      " 5   price            147994 non-null  float64\n",
      " 6   Apartamento      147994 non-null  uint8  \n",
      " 7   Casa             147994 non-null  uint8  \n",
      " 8   Finca            147994 non-null  uint8  \n",
      " 9   Local comercial  147994 non-null  uint8  \n",
      " 10  Lote             147994 non-null  uint8  \n",
      " 11  Oficina          147994 non-null  uint8  \n",
      " 12  Parqueadero      147994 non-null  uint8  \n",
      "dtypes: float64(6), uint8(7)\n",
      "memory usage: 12.9 MB\n"
     ]
    }
   ],
   "source": [
    "df_train.info()"
   ]
  },
  {
   "cell_type": "markdown",
   "metadata": {},
   "source": [
    "The columns 'surface_total' and 'surface_covered' have too many missing values."
   ]
  },
  {
   "cell_type": "code",
   "execution_count": 39,
   "metadata": {},
   "outputs": [],
   "source": [
    "df_train.drop(['surface_total','surface_covered'],axis=1,inplace=True)"
   ]
  },
  {
   "cell_type": "code",
   "execution_count": 40,
   "metadata": {},
   "outputs": [],
   "source": [
    "df_train.dropna(inplace=True)"
   ]
  },
  {
   "cell_type": "code",
   "execution_count": 41,
   "metadata": {},
   "outputs": [
    {
     "name": "stdout",
     "output_type": "stream",
     "text": [
      "<class 'pandas.core.frame.DataFrame'>\n",
      "Int64Index: 130212 entries, 0 to 197548\n",
      "Data columns (total 11 columns):\n",
      " #   Column           Non-Null Count   Dtype  \n",
      "---  ------           --------------   -----  \n",
      " 0   lat              130212 non-null  float64\n",
      " 1   lon              130212 non-null  float64\n",
      " 2   bathrooms        130212 non-null  float64\n",
      " 3   price            130212 non-null  float64\n",
      " 4   Apartamento      130212 non-null  uint8  \n",
      " 5   Casa             130212 non-null  uint8  \n",
      " 6   Finca            130212 non-null  uint8  \n",
      " 7   Local comercial  130212 non-null  uint8  \n",
      " 8   Lote             130212 non-null  uint8  \n",
      " 9   Oficina          130212 non-null  uint8  \n",
      " 10  Parqueadero      130212 non-null  uint8  \n",
      "dtypes: float64(4), uint8(7)\n",
      "memory usage: 5.8 MB\n"
     ]
    }
   ],
   "source": [
    "df_train.info()"
   ]
  },
  {
   "cell_type": "markdown",
   "metadata": {},
   "source": [
    "Finally, I convert the price column because the model has to predict wether a property is cheap (0) or expensive (1). This column will be the target while the rest are the features."
   ]
  },
  {
   "cell_type": "code",
   "execution_count": 42,
   "metadata": {},
   "outputs": [],
   "source": [
    "df_train.price = df_train.price.apply(lambda x: 0 if x < price_mean else 1)"
   ]
  },
  {
   "cell_type": "code",
   "execution_count": 75,
   "metadata": {},
   "outputs": [],
   "source": [
    "y_train = df_train.price.values                 ##target\n",
    "X_train = df_train.drop('price',axis=1).values  ##features"
   ]
  },
  {
   "cell_type": "markdown",
   "metadata": {},
   "source": [
    "We also need to preprocess the test data. It should have the same amount of columns as the number of features."
   ]
  },
  {
   "cell_type": "code",
   "execution_count": 81,
   "metadata": {},
   "outputs": [],
   "source": [
    "test_path = os.path.join(os.getcwd(),'data','properties_colombia_test.csv')\n",
    "df_test = pd.read_csv(test_path)"
   ]
  },
  {
   "cell_type": "code",
   "execution_count": 82,
   "metadata": {},
   "outputs": [],
   "source": [
    "df_test.drop(['Unnamed: 0','id','geometry','l1','l2','l3','l4','l5','l6','operation_type','created_on','start_date','end_date','price_period','ad_type','title','description','surface_total','surface_covered','currency'],axis=1,inplace=True)"
   ]
  },
  {
   "cell_type": "code",
   "execution_count": 83,
   "metadata": {},
   "outputs": [],
   "source": [
    "df_dummies = pd.get_dummies(df_test.property_type)\n",
    "df_dummies.drop('Otro',axis=1,inplace=True)\n",
    "df_test = df_test.join(df_dummies)\n",
    "df_test.drop('property_type',axis=1,inplace=True)"
   ]
  },
  {
   "cell_type": "code",
   "execution_count": 84,
   "metadata": {},
   "outputs": [
    {
     "name": "stdout",
     "output_type": "stream",
     "text": [
      "<class 'pandas.core.frame.DataFrame'>\n",
      "RangeIndex: 65850 entries, 0 to 65849\n",
      "Data columns (total 12 columns):\n",
      " #   Column           Non-Null Count  Dtype  \n",
      "---  ------           --------------  -----  \n",
      " 0   lat              49433 non-null  float64\n",
      " 1   lon              49433 non-null  float64\n",
      " 2   rooms            9110 non-null   float64\n",
      " 3   bedrooms         13403 non-null  float64\n",
      " 4   bathrooms        52054 non-null  float64\n",
      " 5   Apartamento      65850 non-null  uint8  \n",
      " 6   Casa             65850 non-null  uint8  \n",
      " 7   Finca            65850 non-null  uint8  \n",
      " 8   Local comercial  65850 non-null  uint8  \n",
      " 9   Lote             65850 non-null  uint8  \n",
      " 10  Oficina          65850 non-null  uint8  \n",
      " 11  Parqueadero      65850 non-null  uint8  \n",
      "dtypes: float64(5), uint8(7)\n",
      "memory usage: 3.0 MB\n"
     ]
    }
   ],
   "source": [
    "df_test.info()"
   ]
  },
  {
   "cell_type": "code",
   "execution_count": 85,
   "metadata": {},
   "outputs": [],
   "source": [
    "df_test.drop(['rooms','bedrooms'],axis=1,inplace=True)"
   ]
  },
  {
   "cell_type": "code",
   "execution_count": 90,
   "metadata": {},
   "outputs": [],
   "source": [
    "df_test.dropna(inplace=True)"
   ]
  },
  {
   "cell_type": "code",
   "execution_count": 91,
   "metadata": {},
   "outputs": [
    {
     "name": "stdout",
     "output_type": "stream",
     "text": [
      "<class 'pandas.core.frame.DataFrame'>\n",
      "Int64Index: 37074 entries, 0 to 65848\n",
      "Data columns (total 10 columns):\n",
      " #   Column           Non-Null Count  Dtype  \n",
      "---  ------           --------------  -----  \n",
      " 0   lat              37074 non-null  float64\n",
      " 1   lon              37074 non-null  float64\n",
      " 2   bathrooms        37074 non-null  float64\n",
      " 3   Apartamento      37074 non-null  uint8  \n",
      " 4   Casa             37074 non-null  uint8  \n",
      " 5   Finca            37074 non-null  uint8  \n",
      " 6   Local comercial  37074 non-null  uint8  \n",
      " 7   Lote             37074 non-null  uint8  \n",
      " 8   Oficina          37074 non-null  uint8  \n",
      " 9   Parqueadero      37074 non-null  uint8  \n",
      "dtypes: float64(3), uint8(7)\n",
      "memory usage: 1.4 MB\n"
     ]
    }
   ],
   "source": [
    "df_test.info()"
   ]
  },
  {
   "cell_type": "code",
   "execution_count": 93,
   "metadata": {},
   "outputs": [],
   "source": [
    "X_test = df_test.values    ## test features"
   ]
  },
  {
   "cell_type": "markdown",
   "metadata": {},
   "source": [
    "### KNN Model"
   ]
  },
  {
   "cell_type": "code",
   "execution_count": 72,
   "metadata": {},
   "outputs": [],
   "source": [
    "from sklearn.neighbors import KNeighborsClassifier"
   ]
  },
  {
   "cell_type": "code",
   "execution_count": 88,
   "metadata": {},
   "outputs": [
    {
     "name": "stdout",
     "output_type": "stream",
     "text": [
      "(130212, 10) (130212,)\n"
     ]
    }
   ],
   "source": [
    "print(X_train.shape,y_train.shape)"
   ]
  },
  {
   "cell_type": "code",
   "execution_count": 77,
   "metadata": {},
   "outputs": [
    {
     "data": {
      "text/html": [
       "<style>#sk-container-id-2 {color: black;background-color: white;}#sk-container-id-2 pre{padding: 0;}#sk-container-id-2 div.sk-toggleable {background-color: white;}#sk-container-id-2 label.sk-toggleable__label {cursor: pointer;display: block;width: 100%;margin-bottom: 0;padding: 0.3em;box-sizing: border-box;text-align: center;}#sk-container-id-2 label.sk-toggleable__label-arrow:before {content: \"▸\";float: left;margin-right: 0.25em;color: #696969;}#sk-container-id-2 label.sk-toggleable__label-arrow:hover:before {color: black;}#sk-container-id-2 div.sk-estimator:hover label.sk-toggleable__label-arrow:before {color: black;}#sk-container-id-2 div.sk-toggleable__content {max-height: 0;max-width: 0;overflow: hidden;text-align: left;background-color: #f0f8ff;}#sk-container-id-2 div.sk-toggleable__content pre {margin: 0.2em;color: black;border-radius: 0.25em;background-color: #f0f8ff;}#sk-container-id-2 input.sk-toggleable__control:checked~div.sk-toggleable__content {max-height: 200px;max-width: 100%;overflow: auto;}#sk-container-id-2 input.sk-toggleable__control:checked~label.sk-toggleable__label-arrow:before {content: \"▾\";}#sk-container-id-2 div.sk-estimator input.sk-toggleable__control:checked~label.sk-toggleable__label {background-color: #d4ebff;}#sk-container-id-2 div.sk-label input.sk-toggleable__control:checked~label.sk-toggleable__label {background-color: #d4ebff;}#sk-container-id-2 input.sk-hidden--visually {border: 0;clip: rect(1px 1px 1px 1px);clip: rect(1px, 1px, 1px, 1px);height: 1px;margin: -1px;overflow: hidden;padding: 0;position: absolute;width: 1px;}#sk-container-id-2 div.sk-estimator {font-family: monospace;background-color: #f0f8ff;border: 1px dotted black;border-radius: 0.25em;box-sizing: border-box;margin-bottom: 0.5em;}#sk-container-id-2 div.sk-estimator:hover {background-color: #d4ebff;}#sk-container-id-2 div.sk-parallel-item::after {content: \"\";width: 100%;border-bottom: 1px solid gray;flex-grow: 1;}#sk-container-id-2 div.sk-label:hover label.sk-toggleable__label {background-color: #d4ebff;}#sk-container-id-2 div.sk-serial::before {content: \"\";position: absolute;border-left: 1px solid gray;box-sizing: border-box;top: 0;bottom: 0;left: 50%;z-index: 0;}#sk-container-id-2 div.sk-serial {display: flex;flex-direction: column;align-items: center;background-color: white;padding-right: 0.2em;padding-left: 0.2em;position: relative;}#sk-container-id-2 div.sk-item {position: relative;z-index: 1;}#sk-container-id-2 div.sk-parallel {display: flex;align-items: stretch;justify-content: center;background-color: white;position: relative;}#sk-container-id-2 div.sk-item::before, #sk-container-id-2 div.sk-parallel-item::before {content: \"\";position: absolute;border-left: 1px solid gray;box-sizing: border-box;top: 0;bottom: 0;left: 50%;z-index: -1;}#sk-container-id-2 div.sk-parallel-item {display: flex;flex-direction: column;z-index: 1;position: relative;background-color: white;}#sk-container-id-2 div.sk-parallel-item:first-child::after {align-self: flex-end;width: 50%;}#sk-container-id-2 div.sk-parallel-item:last-child::after {align-self: flex-start;width: 50%;}#sk-container-id-2 div.sk-parallel-item:only-child::after {width: 0;}#sk-container-id-2 div.sk-dashed-wrapped {border: 1px dashed gray;margin: 0 0.4em 0.5em 0.4em;box-sizing: border-box;padding-bottom: 0.4em;background-color: white;}#sk-container-id-2 div.sk-label label {font-family: monospace;font-weight: bold;display: inline-block;line-height: 1.2em;}#sk-container-id-2 div.sk-label-container {text-align: center;}#sk-container-id-2 div.sk-container {/* jupyter's `normalize.less` sets `[hidden] { display: none; }` but bootstrap.min.css set `[hidden] { display: none !important; }` so we also need the `!important` here to be able to override the default hidden behavior on the sphinx rendered scikit-learn.org. See: https://github.com/scikit-learn/scikit-learn/issues/21755 */display: inline-block !important;position: relative;}#sk-container-id-2 div.sk-text-repr-fallback {display: none;}</style><div id=\"sk-container-id-2\" class=\"sk-top-container\"><div class=\"sk-text-repr-fallback\"><pre>KNeighborsClassifier(n_neighbors=6)</pre><b>In a Jupyter environment, please rerun this cell to show the HTML representation or trust the notebook. <br />On GitHub, the HTML representation is unable to render, please try loading this page with nbviewer.org.</b></div><div class=\"sk-container\" hidden><div class=\"sk-item\"><div class=\"sk-estimator sk-toggleable\"><input class=\"sk-toggleable__control sk-hidden--visually\" id=\"sk-estimator-id-2\" type=\"checkbox\" checked><label for=\"sk-estimator-id-2\" class=\"sk-toggleable__label sk-toggleable__label-arrow\">KNeighborsClassifier</label><div class=\"sk-toggleable__content\"><pre>KNeighborsClassifier(n_neighbors=6)</pre></div></div></div></div></div>"
      ],
      "text/plain": [
       "KNeighborsClassifier(n_neighbors=6)"
      ]
     },
     "execution_count": 77,
     "metadata": {},
     "output_type": "execute_result"
    }
   ],
   "source": [
    "knn = KNeighborsClassifier(n_neighbors=6)\n",
    "knn.fit(X_train, y_train)"
   ]
  },
  {
   "cell_type": "code",
   "execution_count": 94,
   "metadata": {},
   "outputs": [],
   "source": [
    "y_pred = knn.predict(X_test)"
   ]
  },
  {
   "cell_type": "code",
   "execution_count": 98,
   "metadata": {},
   "outputs": [],
   "source": [
    "pred = pd.DataFrame(data=y_pred,columns=['pred'])"
   ]
  },
  {
   "cell_type": "code",
   "execution_count": 100,
   "metadata": {},
   "outputs": [],
   "source": [
    "pred.to_csv(os.path.join(os.getcwd(),'data','julicaro31.csv'),index=False)"
   ]
  }
 ],
 "metadata": {
  "kernelspec": {
   "display_name": "Python 3.10.8 64-bit",
   "language": "python",
   "name": "python3"
  },
  "language_info": {
   "codemirror_mode": {
    "name": "ipython",
    "version": 3
   },
   "file_extension": ".py",
   "mimetype": "text/x-python",
   "name": "python",
   "nbconvert_exporter": "python",
   "pygments_lexer": "ipython3",
   "version": "3.10.8"
  },
  "orig_nbformat": 4,
  "vscode": {
   "interpreter": {
    "hash": "610c699f0cd8c4f129acd9140687fff6866bed0eb8e82f249fc8848b827b628c"
   }
  }
 },
 "nbformat": 4,
 "nbformat_minor": 2
}
